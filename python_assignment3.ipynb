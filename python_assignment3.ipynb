{
  "nbformat": 4,
  "nbformat_minor": 0,
  "metadata": {
    "colab": {
      "provenance": []
    },
    "kernelspec": {
      "name": "python3",
      "display_name": "Python 3"
    },
    "language_info": {
      "name": "python"
    }
  },
  "cells": [
    {
      "cell_type": "markdown",
      "source": [
        "1. Scenario: A company wants to analyze the sales performance of its products in different regions. They have collected the following data:\n",
        "   Region A: [10, 15, 12, 8, 14]\n",
        "   Region B: [18, 20, 16, 22, 25]\n",
        "   Calculate the mean sales for each region.\n"
      ],
      "metadata": {
        "id": "eJNCRDnbAIjN"
      }
    },
    {
      "cell_type": "code",
      "execution_count": 2,
      "metadata": {
        "colab": {
          "base_uri": "https://localhost:8080/"
        },
        "id": "nx4N7pSq_vhd",
        "outputId": "8f1fd22d-a939-487a-bbf0-c9a52cd7e9b3"
      },
      "outputs": [
        {
          "output_type": "stream",
          "name": "stdout",
          "text": [
            "mean of region a :  11.8\n",
            "mean of region b :  20.2\n"
          ]
        }
      ],
      "source": [
        "import numpy as np\n",
        "a = [10,15,12,8,14]\n",
        "print(\"mean of region a : \",np.mean(a))\n",
        "b = [18,20,16,22,25]\n",
        "print(\"mean of region b : \",np.mean(b))\n"
      ]
    },
    {
      "cell_type": "markdown",
      "source": [
        "2. Scenario: A survey is conducted to measure customer satisfaction on a scale of 1 to 5. The data collected is as follows:\n",
        "   [4, 5, 2, 3, 5, 4, 3, 2, 4, 5]\n",
        "   Calculate the mode of the survey responses.\n"
      ],
      "metadata": {
        "id": "mUxXUXGfA0t_"
      }
    },
    {
      "cell_type": "code",
      "source": [
        "import statistics\n",
        "a = [4, 5, 2, 3, 5, 4, 3, 2, 4, 5]\n",
        "statistics.mode(a)\n"
      ],
      "metadata": {
        "colab": {
          "base_uri": "https://localhost:8080/"
        },
        "id": "xsGTjzP0AJCu",
        "outputId": "2b086efc-bf4d-4a4e-a60c-0e3bda3dd77e"
      },
      "execution_count": 3,
      "outputs": [
        {
          "output_type": "execute_result",
          "data": {
            "text/plain": [
              "4"
            ]
          },
          "metadata": {},
          "execution_count": 3
        }
      ]
    },
    {
      "cell_type": "markdown",
      "source": [
        "3. Scenario: A company wants to compare the salaries of two departments. The salary data for Department A and Department B are as follows:\n",
        "   Department A: [5000, 6000, 5500, 7000]\n",
        "   Department B: [4500, 5500, 5800, 6000, 5200]\n",
        "   Calculate the median salary for each department.\n"
      ],
      "metadata": {
        "id": "DOfRIHR6BAD9"
      }
    },
    {
      "cell_type": "code",
      "source": [
        "a = [5000, 6000, 5500, 7000]\n",
        "b = [4500, 5500, 5800, 6000, 5200]\n",
        "print(np.median(a))\n",
        "print(np.median(b))\n"
      ],
      "metadata": {
        "colab": {
          "base_uri": "https://localhost:8080/"
        },
        "id": "kZQab1vBA4NQ",
        "outputId": "d4a47f92-fa06-4252-9e6d-9417ba890fb6"
      },
      "execution_count": 8,
      "outputs": [
        {
          "output_type": "stream",
          "name": "stdout",
          "text": [
            "5750.0\n",
            "5500.0\n"
          ]
        }
      ]
    },
    {
      "cell_type": "markdown",
      "source": [
        ". Scenario: A data analyst wants to determine the variability in the daily stock prices of a company. The data collected is as follows:\n",
        "   [25.5, 24.8, 26.1, 25.3, 24.9]\n",
        "   Calculate the range of the stock prices.\n"
      ],
      "metadata": {
        "id": "e0XC7lfuBvqg"
      }
    },
    {
      "cell_type": "code",
      "source": [
        "a = [25.5, 24.8, 26.1, 25.3, 24.9]\n",
        "highest_range = max(a)\n",
        "lowest_range = min(a)\n",
        "range = highest_range - lowest_range\n",
        "range"
      ],
      "metadata": {
        "colab": {
          "base_uri": "https://localhost:8080/"
        },
        "id": "IHVA5-yhBIui",
        "outputId": "168706d8-35f4-41c0-998e-787126012588"
      },
      "execution_count": 13,
      "outputs": [
        {
          "output_type": "execute_result",
          "data": {
            "text/plain": [
              "1.3000000000000007"
            ]
          },
          "metadata": {},
          "execution_count": 13
        }
      ]
    },
    {
      "cell_type": "markdown",
      "source": [
        "5. Scenario: A study is conducted to compare the performance of two different teaching methods. The test scores of the students in each group are as follows:\n",
        "   Group A: [85, 90, 92, 88, 91]\n",
        "   Group B: [82, 88, 90, 86, 87]\n",
        "   Perform a t-test to determine if there is a significant difference in the mean scores between the two groups.\n"
      ],
      "metadata": {
        "id": "-dcrbx-yDT-0"
      }
    },
    {
      "cell_type": "code",
      "source": [
        "import numpy as np\n",
        "from scipy.stats import t\n",
        "\n",
        "a = [85,90,92,88,91]\n",
        "b = [92,88,90,86,87]\n",
        "\n",
        "mean_a = np.mean(a)\n",
        "mean_b = np.mean(b)\n",
        "# means\n",
        "\n",
        "n_a = len(a)\n",
        "n_b = len(b)\n",
        "# lenghts = n\n",
        "\n",
        "std_a = np.std(a)\n",
        "std_b = np.std(b)\n",
        "# standard deviation\n",
        "\n",
        "t_test = (mean_a - mean_b)/((std_a+std_b)/(np.sqrt(n_a)+np.sqrt(n_b)))\n",
        "# t test manually\n",
        "\n",
        "df = n_a+n_b-2\n",
        "# degree of freedom\n",
        "\n",
        "critical_t = t.ppf(0.975,8)\n",
        "# critical value by confidence interval\n",
        "\n",
        "\n",
        "if abs(t_test) > critical_t:\n",
        "    print(\"Reject the null hypothesis. There is a significant difference in the mean scores.\")\n",
        "else:\n",
        "    print(\"Fail to reject the null hypothesis. There is no significant difference in the mean scores.\")\n",
        "\n"
      ],
      "metadata": {
        "colab": {
          "base_uri": "https://localhost:8080/"
        },
        "id": "6yMwRiSqC5It",
        "outputId": "74067395-6be8-49a2-8c94-ac718356d94b"
      },
      "execution_count": 29,
      "outputs": [
        {
          "output_type": "stream",
          "name": "stdout",
          "text": [
            "Fail to reject the null hypothesis. There is no significant difference in the mean scores.\n"
          ]
        }
      ]
    },
    {
      "cell_type": "markdown",
      "source": [
        "6. Scenario: A company wants to analyze the relationship between advertising expenditure and sales. The data collected is as follows:\n",
        "   Advertising Expenditure (in thousands): [10, 15, 12, 8, 14]\n",
        "   Sales (in thousands): [25, 30, 28, 20, 26]\n",
        "   Calculate the correlation coefficient between advertising expenditure and sales.\n"
      ],
      "metadata": {
        "id": "OqLdhoY0Hay0"
      }
    },
    {
      "cell_type": "code",
      "source": [
        "\n",
        "\n",
        "# Advertising Expenditure (in thousands)\n",
        "ad= np.array([10, 15, 12, 8, 14])\n",
        "\n",
        "# Sales (in thousands)\n",
        "sales = np.array([25, 30, 28, 20, 26])\n",
        "\n",
        "# Calculate the correlation coefficient\n",
        "correlation_coefficient = np.corrcoef(ad, sales)[0, 1]\n",
        "\n",
        "print(\"Correlation Coefficient:\", correlation_coefficient)\n"
      ],
      "metadata": {
        "colab": {
          "base_uri": "https://localhost:8080/"
        },
        "id": "DDKKcIMHIkSK",
        "outputId": "5afb1c1e-607a-4805-e977-dc0a9c75d23d"
      },
      "execution_count": 44,
      "outputs": [
        {
          "output_type": "stream",
          "name": "stdout",
          "text": [
            "Correlation Coefficient: 0.8757511375750132\n"
          ]
        }
      ]
    },
    {
      "cell_type": "markdown",
      "source": [
        "7. Scenario: A survey is conducted to measure the heights of a group of people. The data collected is as follows:\n",
        "   [160, 170, 165, 155, 175, 180, 170]\n",
        "   Calculate the standard deviation of the heights.\n"
      ],
      "metadata": {
        "id": "8B3a8eRjKcOc"
      }
    },
    {
      "cell_type": "code",
      "source": [
        "a = [160, 170, 165, 155, 175, 180, 170]\n",
        "\n",
        "np.std(a)"
      ],
      "metadata": {
        "colab": {
          "base_uri": "https://localhost:8080/"
        },
        "id": "6xI2sNsXKXu9",
        "outputId": "bc3375fc-463d-46ea-dedb-87c5e5e89223"
      },
      "execution_count": 45,
      "outputs": [
        {
          "output_type": "execute_result",
          "data": {
            "text/plain": [
              "7.953949089757174"
            ]
          },
          "metadata": {},
          "execution_count": 45
        }
      ]
    },
    {
      "cell_type": "markdown",
      "source": [
        "10. Scenario: A company wants to analyze customer feedback ratings on a scale of 1 to 10. The data collected is\n",
        "\n",
        " as follows:\n",
        "    [8, 9, 7, 6, 8, 10, 9, 8, 7, 8]\n",
        "    Calculate the 75th percentile of the feedback ratings.\n"
      ],
      "metadata": {
        "id": "5VkVsoP7LQ0U"
      }
    },
    {
      "cell_type": "code",
      "source": [
        "a = [8, 9, 7, 6, 8, 10, 9, 8, 7, 8]\n",
        "np.percentile(a,[75])"
      ],
      "metadata": {
        "colab": {
          "base_uri": "https://localhost:8080/"
        },
        "id": "a4MT5ul7KfoT",
        "outputId": "51c0406f-9e1b-4824-f757-30f5516643d7"
      },
      "execution_count": 47,
      "outputs": [
        {
          "output_type": "execute_result",
          "data": {
            "text/plain": [
              "array([8.75])"
            ]
          },
          "metadata": {},
          "execution_count": 47
        }
      ]
    },
    {
      "cell_type": "markdown",
      "source": [
        "11. Scenario: A quality control department wants to test the weight consistency of a product. The weights of a sample of products are as follows:\n",
        "    [10.2, 9.8, 10.0, 10.5, 10.3, 10.1]\n",
        "    Perform a hypothesis test to determine if the mean weight differs significantly from 10 grams.\n"
      ],
      "metadata": {
        "id": "-sA_Y9wMLzDO"
      }
    },
    {
      "cell_type": "code",
      "source": [
        "from scipy.stats import t\n",
        "a = [10.2, 9.8, 10.0, 10.5, 10.3, 10.1]\n",
        "\n",
        "population_mean = 10\n",
        "sample_mean = np.mean(a)\n",
        "\n",
        "std_a = np.std(a)\n",
        "\n",
        "n = len(a)\n",
        "\n",
        "t_test = (sample_mean-population_mean)/(std_a/np.sqrt(n))\n",
        "\n",
        "critical_t = t.ppf(0.975,6-1)\n",
        "\n",
        "if abs(t_test) > critical_t:\n",
        "    print(\"Reject the null hypothesis. There is a significant difference in the mean weight.\")\n",
        "else:\n",
        "    print(\"Fail to reject the null hypothesis. There is no significant difference in the mean weight.\")"
      ],
      "metadata": {
        "colab": {
          "base_uri": "https://localhost:8080/"
        },
        "id": "IFL_jNGHLXr7",
        "outputId": "42ba3a0d-f215-48f6-826c-469ab9fae126"
      },
      "execution_count": 51,
      "outputs": [
        {
          "output_type": "stream",
          "name": "stdout",
          "text": [
            "Fail to reject the null hypothesis. There is no significant difference in the mean weight.\n"
          ]
        }
      ]
    },
    {
      "cell_type": "markdown",
      "source": [
        "13. Scenario: A survey is conducted to measure customer satisfaction with a product on a scale of 1 to 10. The data collected is as follows:\n",
        "    [7, 9, 6, 8, 10, 7, 8, 9, 7, 8]\n",
        "    Calculate the 95% confidence interval for the population mean satisfaction score.\n"
      ],
      "metadata": {
        "id": "IiWtsJYMQEBX"
      }
    },
    {
      "cell_type": "code",
      "source": [],
      "metadata": {
        "id": "dBf5hqq-QoC6"
      },
      "execution_count": null,
      "outputs": []
    },
    {
      "cell_type": "code",
      "source": [
        "from scipy.stats import t\n",
        "a = [7, 9, 6, 8, 10, 7, 8, 9, 7, 8]\n",
        "point_estimate = np.mean(a)\n",
        "\n",
        "n = len(a)\n",
        "t = t.ppf(1 - 0.05/2,n-1)\n",
        "std = np.std(a)\n",
        "\n",
        "margin_of_error= t * (std/np.sqrt(n))\n",
        "\n",
        "lower = point_estimate - margin_of_error\n",
        "upper = point_estimate + margin_of_error\n",
        "\n",
        "\n",
        "\n",
        "print(\"lower range :\",lower)\n",
        "print(\"upper range :\",upper)\n"
      ],
      "metadata": {
        "colab": {
          "base_uri": "https://localhost:8080/"
        },
        "id": "gBEqx0B3MPp3",
        "outputId": "de356719-6ffe-4793-e81c-71ff0060b991"
      },
      "execution_count": 61,
      "outputs": [
        {
          "output_type": "stream",
          "name": "stdout",
          "text": [
            "lower range : 7.087510739312016\n",
            "upper range : 8.712489260687985\n"
          ]
        }
      ]
    },
    {
      "cell_type": "markdown",
      "source": [
        "16. Scenario: A company wants to analyze the distribution of customer ages. The data collected is as follows:\n",
        "    [25, 30, 35, 40, 45, 50, 55, 60, 65, 70]\n",
        "    Calculate the interquartile range (IQR) of the ages.\n"
      ],
      "metadata": {
        "id": "Z2X4mbTZSjxx"
      }
    },
    {
      "cell_type": "code",
      "source": [
        "a = [25, 30, 35, 40, 45, 50, 55, 60, 65, 70]\n",
        "q1 , q3 = np.percentile(a,[25,75])\n",
        "q3-q1"
      ],
      "metadata": {
        "colab": {
          "base_uri": "https://localhost:8080/"
        },
        "id": "NHAfEAYNSPF6",
        "outputId": "58f32f74-7b7b-4972-d2ce-1e7ab5fe8e21"
      },
      "execution_count": 63,
      "outputs": [
        {
          "output_type": "execute_result",
          "data": {
            "text/plain": [
              "22.5"
            ]
          },
          "metadata": {},
          "execution_count": 63
        }
      ]
    },
    {
      "cell_type": "markdown",
      "source": [
        "\n",
        "19. Scenario: A survey is conducted to measure the satisfaction levels of customers with a new product. The data collected is as follows:\n",
        "    [7, 8, 9, 6, 8, 7, 9, 7, 8, 7]\n",
        "    Calculate the standard error of the mean satisfaction score.\n"
      ],
      "metadata": {
        "id": "BMKD5jptTXbV"
      }
    },
    {
      "cell_type": "code",
      "source": [
        "scores = [7, 8, 9, 6, 8, 7, 9, 7, 8, 7]\n",
        "\n",
        "standard_error = np.std(scores)/np.sqrt(len(scores))\n",
        "standard_error\n"
      ],
      "metadata": {
        "colab": {
          "base_uri": "https://localhost:8080/"
        },
        "id": "BxWtXS7UTZ01",
        "outputId": "6de96cf3-fd2f-432c-9db9-400a773f4e9f"
      },
      "execution_count": 72,
      "outputs": [
        {
          "output_type": "execute_result",
          "data": {
            "text/plain": [
              "0.28982753492378877"
            ]
          },
          "metadata": {},
          "execution_count": 72
        }
      ]
    },
    {
      "cell_type": "code",
      "source": [],
      "metadata": {
        "id": "ZQvU0df7Tr6f"
      },
      "execution_count": null,
      "outputs": []
    }
  ]
}