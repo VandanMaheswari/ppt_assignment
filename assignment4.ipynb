{
  "nbformat": 4,
  "nbformat_minor": 0,
  "metadata": {
    "colab": {
      "provenance": []
    },
    "kernelspec": {
      "name": "python3",
      "display_name": "Python 3"
    },
    "language_info": {
      "name": "python"
    }
  },
  "cells": [
    {
      "cell_type": "code",
      "execution_count": null,
      "metadata": {
        "id": "bAybW1Mfu8Si"
      },
      "outputs": [],
      "source": [
        "# Question 1\n",
        "# Given three integer arrays arr1, arr2 and arr3 sorted in strictly increasing order, return a sorted array of only the integers that appeared in all three arrays."
      ]
    },
    {
      "cell_type": "code",
      "source": [
        "def findCommonElements(arr1, arr2, arr3):\n",
        "    p1, p2, p3 = 0, 0, 0\n",
        "    result = []\n",
        "\n",
        "    while p1 < len(arr1) and p2 < len(arr2) and p3 < len(arr3):\n",
        "        if arr1[p1] == arr2[p2] == arr3[p3]:\n",
        "            result.append(arr1[p1])\n",
        "            p1 += 1\n",
        "            p2 += 1\n",
        "            p3 += 1\n",
        "        elif arr1[p1] < arr2[p2]:\n",
        "            p1 += 1\n",
        "        elif arr2[p2] < arr3[p3]:\n",
        "            p2 += 1\n",
        "        else:\n",
        "            p3 += 1\n",
        "\n",
        "    return result\n",
        "\n",
        "\n",
        "arr1 = [1,2,3,4,5]\n",
        "arr2 = [1,2,5,7,9]\n",
        "arr3 = [1,3,4,5,8]\n",
        "\n",
        "print(findCommonElements(arr1, arr2, arr3))\n"
      ],
      "metadata": {
        "colab": {
          "base_uri": "https://localhost:8080/"
        },
        "id": "gZ-CwbllvIw7",
        "outputId": "c1835407-7f81-4565-ffd5-03b5a6b988b4"
      },
      "execution_count": 1,
      "outputs": [
        {
          "output_type": "stream",
          "name": "stdout",
          "text": [
            "[1, 5]\n"
          ]
        }
      ]
    },
    {
      "cell_type": "code",
      "source": [
        "# <aside>\n",
        "# 💡 **Question 2**\n",
        "\n",
        "# Given two **0-indexed** integer arrays nums1 and nums2, return *a list* answer *of size* 2 *where:*\n",
        "\n",
        "# - answer[0] *is a list of all **distinct** integers in* nums1 *which are **not** present in* nums2*.*\n",
        "# - answer[1] *is a list of all **distinct** integers in* nums2 *which are **not** present in* nums1.\n",
        "# </aside>"
      ],
      "metadata": {
        "id": "RmX54pmkvNpb"
      },
      "execution_count": null,
      "outputs": []
    },
    {
      "cell_type": "code",
      "source": [
        "def findDisjoint(nums1, nums2):\n",
        "    set1 = set(nums1)\n",
        "    set2 = set(nums2)\n",
        "\n",
        "    result1 = [num for num in nums1 if num not in set2]\n",
        "    result2 = [num for num in nums2 if num not in set1]\n",
        "\n",
        "    return [result1, result2]\n",
        "\n",
        "nums1 = [1, 2, 3]\n",
        "nums2 = [2, 4, 6]\n",
        "\n",
        "print(findDisjoint(nums1, nums2))\n"
      ],
      "metadata": {
        "colab": {
          "base_uri": "https://localhost:8080/"
        },
        "id": "x9Mbf9iovW9H",
        "outputId": "15f23a88-cdf9-4854-bc5d-23023b26d2a2"
      },
      "execution_count": 3,
      "outputs": [
        {
          "output_type": "stream",
          "name": "stdout",
          "text": [
            "[[1, 3], [4, 6]]\n"
          ]
        }
      ]
    },
    {
      "cell_type": "code",
      "source": [
        "# **Question 3**\n",
        "# Given a 2D integer array matrix, return *the **transpose** of* matrix.\n",
        "\n",
        "# The **transpose** of a matrix is the matrix flipped over its main diagonal, switching the matrix's row and column indices."
      ],
      "metadata": {
        "id": "0qLVBjp_vbxx"
      },
      "execution_count": null,
      "outputs": []
    },
    {
      "cell_type": "code",
      "source": [
        "def transposeMatrix(matrix):\n",
        "    num_rows = len(matrix)\n",
        "    num_cols = len(matrix[0])\n",
        "\n",
        "    result = [[0] * num_rows for _ in range(num_cols)]\n",
        "\n",
        "    for i in range(num_rows):\n",
        "        for j in range(num_cols):\n",
        "            result[j][i] = matrix[i][j]\n",
        "\n",
        "    return result\n",
        "matrix = [[1, 2, 3], [4, 5, 6], [7, 8, 9]]\n",
        "\n",
        "print(transposeMatrix(matrix))\n"
      ],
      "metadata": {
        "colab": {
          "base_uri": "https://localhost:8080/"
        },
        "id": "3s9qZ5_Ovhqk",
        "outputId": "7c9d315c-42e7-4937-9da2-63704c0cd09d"
      },
      "execution_count": 4,
      "outputs": [
        {
          "output_type": "stream",
          "name": "stdout",
          "text": [
            "[[1, 4, 7], [2, 5, 8], [3, 6, 9]]\n"
          ]
        }
      ]
    },
    {
      "cell_type": "code",
      "source": [
        "# Question 4\n",
        "# Given an integer array nums of 2n integers, group these integers into n pairs (a1, b1), (a2, b2), ..., (an, bn) such that the sum of min(ai, bi) for all i is maximized. Return the maximized sum."
      ],
      "metadata": {
        "id": "B9zW-TOsvqaK"
      },
      "execution_count": 5,
      "outputs": []
    },
    {
      "cell_type": "code",
      "source": [
        "def arrayPairSum(nums):\n",
        "    nums.sort()\n",
        "    pair_sum = 0\n",
        "\n",
        "    for i in range(0, len(nums), 2):\n",
        "        pair_sum += nums[i]\n",
        "\n",
        "    return pair_sum\n",
        "\n",
        "\n",
        "nums = [1, 4, 3, 2]\n",
        "print(arrayPairSum(nums))\n"
      ],
      "metadata": {
        "colab": {
          "base_uri": "https://localhost:8080/"
        },
        "id": "C6qVGRTrv1g4",
        "outputId": "4738b65b-fadc-4f5d-ba6b-4a394d50216c"
      },
      "execution_count": 6,
      "outputs": [
        {
          "output_type": "stream",
          "name": "stdout",
          "text": [
            "4\n"
          ]
        }
      ]
    },
    {
      "cell_type": "code",
      "source": [
        "# <aside>\n",
        "# 💡 **Question 5**\n",
        "# You have n coins and you want to build a staircase with these coins. The staircase consists of k rows where the ith row has exactly i coins. The last row of the staircase **may be** incomplete.\n",
        "\n",
        "# Given the integer n, return *the number of **complete rows** of the staircase you will build*.\n",
        "\n",
        "# </aside>"
      ],
      "metadata": {
        "id": "4LObZxIkv5Hp"
      },
      "execution_count": 7,
      "outputs": []
    },
    {
      "cell_type": "code",
      "source": [
        "def arrangeCoins(n):\n",
        "    complete_rows = 0\n",
        "    row = 1\n",
        "\n",
        "    while n >= row:\n",
        "        n -= row\n",
        "        complete_rows += 1\n",
        "        row += 1\n",
        "\n",
        "    return complete_rows\n"
      ],
      "metadata": {
        "id": "Y8Vg2kSsv8cC"
      },
      "execution_count": 8,
      "outputs": []
    },
    {
      "cell_type": "code",
      "source": [
        "n = 8\n",
        "print(arrangeCoins(n))\n"
      ],
      "metadata": {
        "colab": {
          "base_uri": "https://localhost:8080/"
        },
        "id": "CpTwS0I3v___",
        "outputId": "1eeebe68-84f4-4555-bfa2-b642eaa95a39"
      },
      "execution_count": 9,
      "outputs": [
        {
          "output_type": "stream",
          "name": "stdout",
          "text": [
            "3\n"
          ]
        }
      ]
    },
    {
      "cell_type": "code",
      "source": [
        "# Question 6:\n",
        "\n",
        "# To square each number in a sorted array, you can iterate over the array, square each element, and store the squared values in a new array. Then, you can sort the new array to obtain the desired result."
      ],
      "metadata": {
        "id": "BjtQPGpowA6G"
      },
      "execution_count": 10,
      "outputs": []
    },
    {
      "cell_type": "code",
      "source": [
        "def sortedSquares(nums):\n",
        "    squared_nums = [num**2 for num in nums]\n",
        "    squared_nums.sort()\n",
        "    return squared_nums\n",
        "\n",
        "\n",
        "nums = [-4, -1, 0, 3, 10]\n",
        "print(sortedSquares(nums))\n"
      ],
      "metadata": {
        "colab": {
          "base_uri": "https://localhost:8080/"
        },
        "id": "b8nyxI0SwRBh",
        "outputId": "bf3645e7-a414-413a-82db-75592af9f09d"
      },
      "execution_count": 11,
      "outputs": [
        {
          "output_type": "stream",
          "name": "stdout",
          "text": [
            "[0, 1, 9, 16, 100]\n"
          ]
        }
      ]
    },
    {
      "cell_type": "code",
      "source": [
        "# Question 7:\n",
        "\n",
        "# To solve this question, you can track the minimum row and column values from the ops array. The maximum number of integers will be equal to the number of cells in the matrix that have the minimum row and column values."
      ],
      "metadata": {
        "id": "MNdoPD1rwURl"
      },
      "execution_count": 12,
      "outputs": []
    },
    {
      "cell_type": "code",
      "source": [
        "def maxCount(m, n, ops):\n",
        "    min_row = m\n",
        "    min_col = n\n",
        "\n",
        "    for op in ops:\n",
        "        min_row = min(min_row, op[0])\n",
        "        min_col = min(min_col, op[1])\n",
        "\n",
        "    return min_row * min_col\n",
        "\n",
        "\n",
        "m = 3\n",
        "n = 3\n",
        "ops = [[2, 2], [3, 3]]\n",
        "print(maxCount(m, n, ops))\n"
      ],
      "metadata": {
        "colab": {
          "base_uri": "https://localhost:8080/"
        },
        "id": "NJVG1pfswXfX",
        "outputId": "4fe8c0e4-aee5-47de-c2c4-9f009ca7b520"
      },
      "execution_count": 13,
      "outputs": [
        {
          "output_type": "stream",
          "name": "stdout",
          "text": [
            "4\n"
          ]
        }
      ]
    },
    {
      "cell_type": "code",
      "source": [
        "# Question 8:\n",
        "\n",
        "# To rearrange the elements in the given format, you can iterate over the array nums using two pointers, one for the first half of the array and one for the second half. At each iteration, you can append the corresponding elements from each half to a new result array."
      ],
      "metadata": {
        "id": "6CeVq4g3wboS"
      },
      "execution_count": 14,
      "outputs": []
    },
    {
      "cell_type": "code",
      "source": [
        "def shuffle(nums, n):\n",
        "    result = []\n",
        "\n",
        "    for i in range(n):\n",
        "        result.append(nums[i])\n",
        "        result.append(nums[i + n])\n",
        "\n",
        "    return result\n",
        "\n",
        "\n",
        "\n",
        "nums = [2, 5, 1, 3, 4, 7]\n",
        "n = 3\n",
        "print(shuffle(nums, n))\n"
      ],
      "metadata": {
        "colab": {
          "base_uri": "https://localhost:8080/"
        },
        "id": "9q6_xYafweXT",
        "outputId": "ceedb162-fafa-436d-a50d-ea309490f5bf"
      },
      "execution_count": 15,
      "outputs": [
        {
          "output_type": "stream",
          "name": "stdout",
          "text": [
            "[2, 3, 5, 4, 1, 7]\n"
          ]
        }
      ]
    },
    {
      "cell_type": "code",
      "source": [],
      "metadata": {
        "id": "tqhTJC26whun"
      },
      "execution_count": null,
      "outputs": []
    }
  ]
}