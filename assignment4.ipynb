{
 "cells": [
  {
   "cell_type": "code",
   "execution_count": 1,
   "id": "8d46c9f9-6359-426d-964c-044ca728a1dc",
   "metadata": {},
   "outputs": [],
   "source": [
    "# <aside>\n",
    "# 💡 **Question 1**\n",
    "\n",
    "# Given an integer `n`, return *`true` if it is a power of two. Otherwise, return `false`*.\n",
    "\n",
    "# An integer `n` is a power of two, if there exists an integer `x` such that `n == 2x`.\n",
    "\n",
    "# **Example 1:**\n",
    "# Input: n = 1 \n",
    "\n",
    "# Output: true\n",
    "\n",
    "# **Example 2:**\n",
    "# Input: n = 16 \n",
    "\n",
    "# Output: true\n",
    "\n",
    "# **Example 3:**\n",
    "# Input: n = 3 \n",
    "\n",
    "# Output: false\n",
    "\n",
    "# </aside>"
   ]
  },
  {
   "cell_type": "code",
   "execution_count": 2,
   "id": "8b3c6ee4-ebf4-4b76-b2d7-6f1785536c7b",
   "metadata": {},
   "outputs": [],
   "source": [
    "def isPowerOfTwo(n):\n",
    "    if n <= 0:\n",
    "        return False\n",
    "\n",
    "    while n > 1:\n",
    "        if n % 2 != 0:\n",
    "            return False\n",
    "        n //= 2\n",
    "\n",
    "    return n == 1\n"
   ]
  },
  {
   "cell_type": "code",
   "execution_count": 4,
   "id": "8373ab84-5f35-4d28-bb53-62a40ab58f0f",
   "metadata": {},
   "outputs": [],
   "source": [
    "# <aside>\n",
    "# 💡 **Question 2**\n",
    "\n",
    "# Given a number n, find the sum of the first natural numbers.\n",
    "\n",
    "# **Example 1:**\n",
    "\n",
    "# Input: n = 3 \n",
    "\n",
    "# Output: 6\n",
    "\n",
    "# **Example 2:**\n",
    "\n",
    "# Input  : 5 \n",
    "\n",
    "# Output : 15\n",
    "\n",
    "# # </aside>"
   ]
  },
  {
   "cell_type": "code",
   "execution_count": 5,
   "id": "052a932f-699d-43cd-a916-95bc487a2d0e",
   "metadata": {},
   "outputs": [],
   "source": [
    "def sumOfNaturalNumbers(n):\n",
    "    return (n * (n + 1)) // 2\n"
   ]
  },
  {
   "cell_type": "code",
   "execution_count": null,
   "id": "96abd368-f316-4d4d-8af6-4e813ab97075",
   "metadata": {},
   "outputs": [],
   "source": [
    "# <aside>\n",
    "# 💡 **Question 3**\n",
    "\n",
    "# ****Given a positive integer, N. Find the factorial of N. \n",
    "\n",
    "# **Example 1:**\n",
    "\n",
    "# Input: N = 5 \n",
    "\n",
    "# Output: 120\n",
    "\n",
    "# **Example 2:**\n",
    "\n",
    "# Input: N = 4\n",
    "\n",
    "# Output: 24\n",
    "\n",
    "# </aside>"
   ]
  },
  {
   "cell_type": "code",
   "execution_count": 6,
   "id": "9498af0e-f669-4e8b-a914-7ad177f0c67e",
   "metadata": {},
   "outputs": [],
   "source": [
    "def factorial(n):\n",
    "    if n == 0 or n == 1:\n",
    "        return 1\n",
    "    else:\n",
    "        return n * factorial(n - 1)\n"
   ]
  },
  {
   "cell_type": "code",
   "execution_count": 7,
   "id": "7a5859db-f1bb-4035-9a79-c398a9f9ee1d",
   "metadata": {},
   "outputs": [],
   "source": [
    "# <aside>\n",
    "# 💡 **Question 5**\n",
    "\n",
    "# Given an array of integers **arr**, the task is to find maximum element of that array using recursion.\n",
    "\n",
    "# **Example 1:**\n",
    "\n",
    "# Input: arr = {1, 4, 3, -5, -4, 8, 6};\n",
    "# Output: 8\n",
    "\n",
    "# **Example 2:**\n",
    "\n",
    "# Input: arr = {1, 4, 45, 6, 10, -8};\n",
    "# Output: 45\n",
    "\n",
    "# </aside>"
   ]
  },
  {
   "cell_type": "code",
   "execution_count": 8,
   "id": "e1445035-0dcf-4b6f-aa75-1d3774673793",
   "metadata": {},
   "outputs": [],
   "source": [
    "def findMax(arr):\n",
    "    if len(arr) == 1:\n",
    "        return arr[0]\n",
    "    \n",
    "    mid = len(arr) // 2\n",
    "    left = arr[:mid]\n",
    "    right = arr[mid:]\n",
    "\n",
    "    max_left = findMax(left)\n",
    "    max_right = findMax(right)\n",
    "\n",
    "    return max(max_left, max_right)\n"
   ]
  },
  {
   "cell_type": "code",
   "execution_count": 9,
   "id": "d37a1c9e-5001-45ba-9d33-5ef61257df6e",
   "metadata": {},
   "outputs": [],
   "source": [
    "# <aside>\n",
    "# 💡 **Question 6**\n",
    "\n",
    "# Given first term (a), common difference (d) and a integer N of the Arithmetic Progression series, the task is to find Nth term of the series.\n",
    "\n",
    "# **Example 1:**\n",
    "\n",
    "# Input : a = 2 d = 1 N = 5\n",
    "# Output : 6\n",
    "# The 5th term of the series is : 6\n",
    "\n",
    "# **Example 2:**\n",
    "\n",
    "# Input : a = 5 d = 2 N = 10\n",
    "# Output : 23\n",
    "# The 10th term of the series is : 23\n",
    "\n",
    "# </aside>"
   ]
  },
  {
   "cell_type": "code",
   "execution_count": 10,
   "id": "f238c1f4-2cdc-40b0-a4a4-9d41123b7a3a",
   "metadata": {},
   "outputs": [],
   "source": [
    "def findNthTerm(a, d, n):\n",
    "    nth_term = a + (n - 1) * d\n",
    "    return nth_term\n"
   ]
  },
  {
   "cell_type": "code",
   "execution_count": 11,
   "id": "242276b8-7a35-49a1-8de5-0fdb2d75d106",
   "metadata": {},
   "outputs": [],
   "source": [
    "# <aside>\n",
    "# 💡 **uestion 7**\n",
    "\n",
    "# Given a string S, the task is to write a program to print all permutations of a given string.\n",
    "\n",
    "# **Example 1:**\n",
    "\n",
    "# ***Input:***\n",
    "\n",
    "# *S = “ABC”*\n",
    "\n",
    "# ***Output:***\n",
    "\n",
    "# *“ABC”, “ACB”, “BAC”, “BCA”, “CBA”, “CAB”*\n",
    "\n",
    "# **Example 2:**\n",
    "\n",
    "# ***Input:***\n",
    "\n",
    "# *S = “XY”*\n",
    "\n",
    "# ***Output:***\n",
    "\n",
    "# *“XY”, “YX”*\n",
    "\n",
    "# </aside>"
   ]
  },
  {
   "cell_type": "code",
   "execution_count": 12,
   "id": "b813ef48-a421-4bfd-8d4b-44fa2600d6c1",
   "metadata": {},
   "outputs": [
    {
     "name": "stdout",
     "output_type": "stream",
     "text": [
      "ABC\n",
      "ACB\n",
      "BAC\n",
      "BCA\n",
      "CAB\n",
      "CBA\n",
      "XY\n",
      "YX\n"
     ]
    }
   ],
   "source": [
    "def permute(S, current, visited):\n",
    "    if len(current) == len(S):\n",
    "        print(current)\n",
    "        return\n",
    "\n",
    "    for char in S:\n",
    "        if char not in visited:\n",
    "            visited.add(char)\n",
    "            permute(S, current + char, visited)\n",
    "            visited.remove(char)\n",
    "\n",
    "def printPermutations(S):\n",
    "    permute(S, \"\", set())\n",
    "\n",
    "# Test the function\n",
    "S = \"ABC\"\n",
    "printPermutations(S)\n",
    "\n",
    "S = \"XY\"\n",
    "printPermutations(S)\n"
   ]
  },
  {
   "cell_type": "code",
   "execution_count": 13,
   "id": "dcc7dfab-edd6-4041-bec5-f2b0b4dc66f4",
   "metadata": {},
   "outputs": [],
   "source": [
    "# <aside>\n",
    "# 💡 **Question 8**\n",
    "\n",
    "# Given an array, find a product of all array elements.\n",
    "\n",
    "# **Example 1:**\n",
    "\n",
    "# Input  : arr[] = {1, 2, 3, 4, 5}\n",
    "# Output : 120\n",
    "# **Example 2:**\n",
    "\n",
    "# Input  : arr[] = {1, 6, 3}\n",
    "# Output : 18\n",
    "\n",
    "# </aside>"
   ]
  },
  {
   "cell_type": "code",
   "execution_count": null,
   "id": "9a244226-9349-4464-874f-6d9a8cafa921",
   "metadata": {},
   "outputs": [],
   "source": [
    "def findProduct(arr):\n",
    "    product = 1\n",
    "    for num in arr:\n",
    "        product *= num\n",
    "    return product\n"
   ]
  }
 ],
 "metadata": {
  "kernelspec": {
   "display_name": "Python 3 (ipykernel)",
   "language": "python",
   "name": "python3"
  },
  "language_info": {
   "codemirror_mode": {
    "name": "ipython",
    "version": 3
   },
   "file_extension": ".py",
   "mimetype": "text/x-python",
   "name": "python",
   "nbconvert_exporter": "python",
   "pygments_lexer": "ipython3",
   "version": "3.10.6"
  }
 },
 "nbformat": 4,
 "nbformat_minor": 5
}
