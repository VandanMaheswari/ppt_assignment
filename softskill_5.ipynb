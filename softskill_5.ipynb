{
  "nbformat": 4,
  "nbformat_minor": 0,
  "metadata": {
    "colab": {
      "provenance": []
    },
    "kernelspec": {
      "name": "python3",
      "display_name": "Python 3"
    },
    "language_info": {
      "name": "python"
    }
  },
  "cells": [
    {
      "cell_type": "code",
      "execution_count": null,
      "metadata": {
        "id": "9BP1xYDSxEXt"
      },
      "outputs": [],
      "source": []
    },
    {
      "cell_type": "markdown",
      "source": [
        "1. Can you tell me about yourself?\n",
        "* ans. i am vandan maheshwari i am from ineuron data science batch 2.0 and i\n",
        "have completed my studies from shree vaishnav institute and about my family i have members in my family.\n",
        "\n",
        "\n",
        "\n",
        "\n",
        "\n",
        "\n",
        "\n"
      ],
      "metadata": {
        "id": "UnivIg_WxT4C"
      }
    },
    {
      "cell_type": "markdown",
      "source": [
        "2. What are your greatest strengths?\n",
        "* ans. my strenghts are 1. i am very detailed oriented person , very friendly , and always good to work with team\n",
        "\n",
        "\n",
        "\n",
        "\n"
      ],
      "metadata": {
        "id": "L--ptbuTyKyI"
      }
    },
    {
      "cell_type": "markdown",
      "source": [
        "3. What are your greatest weaknesses?\n",
        "* ans i don't have any greatest weakness but i am very over ambitious\n"
      ],
      "metadata": {
        "id": "TG6sC1jgyNkA"
      }
    },
    {
      "cell_type": "markdown",
      "source": [
        "4. Why should I hire you?\n",
        "* ans. I should be hired for this role because of my relevant skills, experience, and passion for the industry.\n"
      ],
      "metadata": {
        "id": "4VhPNcG3yiJh"
      }
    },
    {
      "cell_type": "markdown",
      "source": [
        "5. Where do you see yourself in five years?\n",
        " * ans. I see myself as an integral part of the company who has helped contribute to the growth and success of the organization"
      ],
      "metadata": {
        "id": "7B3YrkIF7ar9"
      }
    },
    {
      "cell_type": "markdown",
      "source": [
        "6. can you describe your ideal company, location and job?\n",
        "* ans. My ideal company is like where I can get job satisfaction and use all of my potential\n"
      ],
      "metadata": {
        "id": "FAaI528T7yn-"
      }
    },
    {
      "cell_type": "markdown",
      "source": [
        "\n",
        "7. Why do you want to work for our company?\n",
        "* ans. I see this opportunity as a way to contribute to an exciting/forward-thinking/fast-moving company/industry"
      ],
      "metadata": {
        "id": "6CQZVxwb8OJI"
      }
    },
    {
      "cell_type": "markdown",
      "source": [
        "8. What are your career options at the moment?\n",
        "* ans. data scientist , data analytics , ml engineering\n"
      ],
      "metadata": {
        "id": "peFSW0j88WJo"
      }
    },
    {
      "cell_type": "markdown",
      "source": [
        "\n",
        "9. Are you able to work under pressure?\n",
        "* ans. i will try my level best and also always ready to adapt new things"
      ],
      "metadata": {
        "id": "ky8k1mt58eSq"
      }
    },
    {
      "cell_type": "markdown",
      "source": [
        "\n",
        "10.Are you willing to relocate or travel?\n",
        "* ans. yes i can"
      ],
      "metadata": {
        "id": "cYjIMIhh8iH9"
      }
    },
    {
      "cell_type": "markdown",
      "source": [
        "\n",
        "12.May I contact your current employer for a reference?\n",
        "* ans. i am a fresher"
      ],
      "metadata": {
        "id": "ACMD_T3c8o--"
      }
    },
    {
      "cell_type": "markdown",
      "source": [
        "\n",
        "13.How many hours do you normally work per week?\n",
        "* ans. 8 -10 hour per day"
      ],
      "metadata": {
        "id": "7HUeREK58v_O"
      }
    },
    {
      "cell_type": "markdown",
      "source": [
        "\n",
        "14.Have you considered starting your own business?\n",
        "* ans. i want to do so but right now i don't have any plan"
      ],
      "metadata": {
        "id": "55ccCt6282p6"
      }
    },
    {
      "cell_type": "markdown",
      "source": [
        "\n",
        "15.What are your goals?\n",
        "* ans. short term - to get job in your commpany"
      ],
      "metadata": {
        "id": "zrtmDuR688x1"
      }
    },
    {
      "cell_type": "markdown",
      "source": [
        "17.What salary are you expecting?\n",
        "* ans. as i am fresher so don't want to ask illogical package but to complete my desrire needs and also wants to fullfill my parents need so i want package that complete those thing"
      ],
      "metadata": {
        "id": "Iykku0fV9jUt"
      }
    },
    {
      "cell_type": "markdown",
      "source": [
        "\n",
        "18.How do you define success?\n",
        "* ans. success is not same for everyone like for me success is to get setteld in life and fullfill my parents need as well as to give a lesson to society"
      ],
      "metadata": {
        "id": "XWRiLzgT9wXm"
      }
    },
    {
      "cell_type": "markdown",
      "source": [
        "\n",
        "19.Do you consider yourself successful?\n",
        "* ans. not successfull but willing to"
      ],
      "metadata": {
        "id": "vIF_Wfk790y0"
      }
    },
    {
      "cell_type": "markdown",
      "source": [
        "\n",
        "20.How do you handle criticisms and stress?\n",
        "* ans. focus on your dream"
      ],
      "metadata": {
        "id": "FyAXyIHc95tj"
      }
    },
    {
      "cell_type": "markdown",
      "source": [
        "\n",
        "21.Are you willing to relocate?\n",
        "ans. yes"
      ],
      "metadata": {
        "id": "4R_VDahJ988O"
      }
    },
    {
      "cell_type": "markdown",
      "source": [
        "\n",
        "22.What choices do you have at the moment?\n",
        "23.BSc/BCA vs Engineering\n",
        "24.Postgraduate studies vs Job\n",
        "25.Job vs Research\n",
        "26.What motivates you? Personal or professional goals?\n",
        "27.How do you validate yourself and your work?\n",
        "28.How do others perceive you compared to how you perceive yourself?\n",
        "29.Who do you get along with and who don’t you get along with at work?\n",
        "30.How do you handle setbacks, disappointments, failures and deadlines?\n",
        "31.Do you prefer working independently or as part of a team?\n",
        "32.How do you deal with disagreements?\n",
        "33.Ethics vs Morality"
      ],
      "metadata": {
        "id": "W7O8sI9b7YeR"
      }
    },
    {
      "cell_type": "code",
      "source": [],
      "metadata": {
        "id": "4LpX581hxp9w"
      },
      "execution_count": null,
      "outputs": []
    }
  ]
}