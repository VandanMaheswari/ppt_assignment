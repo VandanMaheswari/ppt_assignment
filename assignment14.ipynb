{
  "nbformat": 4,
  "nbformat_minor": 0,
  "metadata": {
    "colab": {
      "provenance": []
    },
    "kernelspec": {
      "name": "python3",
      "display_name": "Python 3"
    },
    "language_info": {
      "name": "python"
    }
  },
  "cells": [
    {
      "cell_type": "code",
      "execution_count": 1,
      "metadata": {
        "id": "5bg4N1305s-S"
      },
      "outputs": [],
      "source": [
        "# question 1"
      ]
    },
    {
      "cell_type": "code",
      "source": [
        "class ListNode:\n",
        "    def __init__(self, val=0, next=None):\n",
        "        self.val = val\n",
        "        self.next = next\n",
        "\n",
        "def remove_loop(head):\n",
        "    if not head or not head.next:\n",
        "        return head\n",
        "\n",
        "    slow = head\n",
        "    fast = head\n",
        "\n",
        "    while fast and fast.next:\n",
        "        slow = slow.next\n",
        "        fast = fast.next.next\n",
        "\n",
        "        if slow == fast:\n",
        "            break\n",
        "\n",
        "    if slow != fast:\n",
        "        return head\n",
        "\n",
        "    slow = head\n",
        "    while slow.next != fast.next:\n",
        "        slow = slow.next\n",
        "        fast = fast.next\n",
        "\n",
        "    fast.next = None\n",
        "\n",
        "    return head\n"
      ],
      "metadata": {
        "id": "yOw1Rrme69F3"
      },
      "execution_count": 2,
      "outputs": []
    },
    {
      "cell_type": "code",
      "source": [
        "# question 2"
      ],
      "metadata": {
        "id": "AEZh1Zn47BIN"
      },
      "execution_count": 3,
      "outputs": []
    },
    {
      "cell_type": "code",
      "source": [
        "class ListNode:\n",
        "    def __init__(self, val=0, next=None):\n",
        "        self.val = val\n",
        "        self.next = next\n",
        "\n",
        "def add_one(head):\n",
        "    if not head:\n",
        "        return head\n",
        "\n",
        "    # Reverse the linked list\n",
        "    prev = None\n",
        "    current = head\n",
        "    while current:\n",
        "        next_node = current.next\n",
        "        current.next = prev\n",
        "        prev = current\n",
        "        current = next_node\n",
        "    head = prev\n",
        "\n",
        "    # Add 1 to the number\n",
        "    carry = 1\n",
        "    current = head\n",
        "    while current:\n",
        "        total = current.val + carry\n",
        "        current.val = total % 10\n",
        "        carry = total // 10\n",
        "        current = current.next\n",
        "\n",
        "    # Reverse the linked list again\n",
        "    prev = None\n",
        "    current = head\n",
        "    while current:\n",
        "        next_node = current.next\n",
        "        current.next = prev\n",
        "        prev = current\n",
        "        current = next_node\n",
        "    head = prev\n",
        "\n",
        "    # If there is a carry after adding 1\n",
        "    if carry:\n",
        "        new_head = ListNode(1)\n",
        "        new_head.next = head\n",
        "        head = new_head\n",
        "\n",
        "    return head\n"
      ],
      "metadata": {
        "id": "wRmAG0lr7CnV"
      },
      "execution_count": 4,
      "outputs": []
    },
    {
      "cell_type": "code",
      "source": [
        "# question 3"
      ],
      "metadata": {
        "id": "VojxR9fI7EPb"
      },
      "execution_count": 5,
      "outputs": []
    },
    {
      "cell_type": "code",
      "source": [
        "class ListNode:\n",
        "    def __init__(self, val=0, next=None, bottom=None):\n",
        "        self.val = val\n",
        "        self.next = next\n",
        "        self.bottom = bottom\n",
        "\n",
        "def flatten_linked_list(head):\n",
        "    if not head or not head.next:\n",
        "        return head\n",
        "\n",
        "    head.next = flatten_linked_list(head.next)\n",
        "    head = merge_two_lists(head, head.next)\n",
        "\n",
        "    return head\n",
        "\n",
        "def merge_two_lists(head1, head2):\n",
        "    if not head1:\n",
        "        return head2\n",
        "    if not head2:\n",
        "        return head1\n",
        "\n",
        "    if head1.val <= head2.val:\n",
        "        result = head1\n",
        "        result.bottom = merge_two_lists(head1.bottom, head2)\n",
        "    else:\n",
        "        result = head2\n",
        "        result.bottom = merge_two_lists(head1, head2.bottom)\n",
        "\n",
        "    return result\n"
      ],
      "metadata": {
        "id": "TRaB5VsM7FLQ"
      },
      "execution_count": 6,
      "outputs": []
    },
    {
      "cell_type": "code",
      "source": [
        "# question 4"
      ],
      "metadata": {
        "id": "3WmQUt4X7Gas"
      },
      "execution_count": 7,
      "outputs": []
    },
    {
      "cell_type": "code",
      "source": [
        "class ListNode:\n",
        "    def __init__(self, x):\n",
        "        self.data = x\n",
        "        self.next = None\n",
        "        self.random = None\n",
        "\n",
        "def copy_linked_list(head):\n",
        "    if not head:\n",
        "        return None\n",
        "\n",
        "    # Create a copy of each node and insert it after the original node\n",
        "    current = head\n",
        "    while current:\n",
        "        new_node = ListNode(current.data)\n",
        "        new_node.next = current.next\n",
        "        current.next = new_node\n",
        "        current = new_node.next\n",
        "\n",
        "    # Update the random pointers of the copied nodes\n",
        "    current = head\n",
        "    while current:\n",
        "        if current.random:\n",
        "            current.next.random = current.random.next\n",
        "        current = current.next.next\n",
        "\n",
        "    # Separate the original and copied linked lists\n",
        "    current = head\n",
        "    new_head = head.next\n",
        "    new_current = new_head\n",
        "    while current:\n",
        "        current.next = current.next.next\n",
        "        if new_current.next:\n",
        "            new_current.next = new_current.next.next\n",
        "        current = current.next\n",
        "        new_current = new_current.next\n",
        "\n",
        "    return new_head\n"
      ],
      "metadata": {
        "id": "YZ8vRA9v7MVm"
      },
      "execution_count": 8,
      "outputs": []
    },
    {
      "cell_type": "code",
      "source": [
        "# question 5"
      ],
      "metadata": {
        "id": "hHPtilqT7QAX"
      },
      "execution_count": 9,
      "outputs": []
    },
    {
      "cell_type": "code",
      "source": [
        "class ListNode:\n",
        "    def __init__(self, x):\n",
        "        self.val = x\n",
        "        self.next = None\n",
        "\n",
        "def odd_even_list(head):\n",
        "    if not head or not head.next:\n",
        "        return head\n",
        "\n",
        "    odd_head = head\n",
        "    even_head = head.next\n",
        "    odd_current = odd_head\n",
        "    even_current = even_head\n",
        "\n",
        "    while even_current and even_current.next:\n",
        "        odd_current.next = even_current.next\n",
        "        odd_current = odd_current.next\n",
        "        even_current.next = odd_current.next\n",
        "        even_current = even_current.next\n",
        "\n",
        "    odd_current.next = even_head\n",
        "\n",
        "    return odd_head\n"
      ],
      "metadata": {
        "id": "DKR76bzB7VMY"
      },
      "execution_count": 10,
      "outputs": []
    },
    {
      "cell_type": "code",
      "source": [
        "# question 6"
      ],
      "metadata": {
        "id": "CUFpaxMV7Vb3"
      },
      "execution_count": 11,
      "outputs": []
    },
    {
      "cell_type": "code",
      "source": [
        "class ListNode:\n",
        "    def __init__(self, x):\n",
        "        self.val = x\n",
        "        self.next = None\n",
        "\n",
        "def left_shift_linked_list(head, k):\n",
        "    if not head or not head.next or k == 0:\n",
        "        return head\n",
        "\n",
        "    # Find the length of the linked list\n",
        "    length = 0\n",
        "    current = head\n",
        "    while current:\n",
        "        length += 1\n",
        "        current = current.next\n",
        "\n",
        "    # Normalize the shift value\n",
        "    k = k % length\n",
        "\n",
        "    if k == 0:\n",
        "        return head\n",
        "\n",
        "    # Find the new head and the tail node after shifting\n",
        "    new_head = head\n",
        "    new_tail = head\n",
        "    for _ in range(k):\n",
        "        new_tail = new_tail.next\n",
        "\n",
        "    while new_tail.next:\n",
        "        new_head = new_head.next\n",
        "        new_tail = new_tail.next\n",
        "\n",
        "    # Perform the left shift\n",
        "    new_tail.next = head\n",
        "    head = new_head.next\n",
        "    new_head.next = None\n",
        "\n",
        "    return head\n"
      ],
      "metadata": {
        "id": "wuplk3IH7cvJ"
      },
      "execution_count": 12,
      "outputs": []
    },
    {
      "cell_type": "code",
      "source": [
        "# question 7"
      ],
      "metadata": {
        "id": "mTmx8i947eVX"
      },
      "execution_count": 13,
      "outputs": []
    },
    {
      "cell_type": "code",
      "source": [
        "class ListNode:\n",
        "    def __init__(self, x):\n",
        "        self.val = x\n",
        "        self.next = None\n",
        "\n",
        "def next_greater_node(head):\n",
        "    if not head:\n",
        "        return []\n",
        "\n",
        "    # Convert the linked list to a list\n",
        "    values = []\n",
        "    current = head\n",
        "    while current:\n",
        "        values.append(current.val)\n",
        "        current = current.next\n",
        "\n",
        "    # Find the next greater nodes using a stack\n",
        "    stack = []\n",
        "    result = [0] * len(values)\n",
        "    for i, val in enumerate(values):\n",
        "        while stack and values[stack[-1]] < val:\n",
        "            result[stack.pop()] = val\n",
        "        stack.append(i)\n",
        "\n",
        "    return result\n"
      ],
      "metadata": {
        "id": "hlOHExZh7fle"
      },
      "execution_count": 14,
      "outputs": []
    },
    {
      "cell_type": "code",
      "source": [
        "# question 8"
      ],
      "metadata": {
        "id": "-9fIMWKi7hN7"
      },
      "execution_count": 15,
      "outputs": []
    },
    {
      "cell_type": "code",
      "source": [
        "class ListNode:\n",
        "    def __init__(self, x):\n",
        "        self.val = x\n",
        "        self.next = None\n",
        "\n",
        "def remove_zero_sum_sublists(head):\n",
        "    dummy = ListNode(0)\n",
        "    dummy.next = head\n",
        "    prefix_sum = 0\n",
        "    prefix_sums = {}\n",
        "    current = dummy\n",
        "\n",
        "    while current:\n",
        "        prefix_sum += current.val\n",
        "\n",
        "        if prefix_sum in prefix_sums:\n",
        "            prev = prefix_sums[prefix_sum].next\n",
        "            while prev != current:\n",
        "                prefix_sum += prev.val\n",
        "                prefix_sums.pop(prefix_sum)\n",
        "                prev = prev.next\n",
        "            prefix_sums[prefix_sum].next = current.next\n",
        "        else:\n",
        "            prefix_sums[prefix_sum] = current\n",
        "\n",
        "        current = current.next\n",
        "\n",
        "    return dummy.next\n"
      ],
      "metadata": {
        "id": "etsPc9Ir7q0d"
      },
      "execution_count": 16,
      "outputs": []
    },
    {
      "cell_type": "code",
      "source": [],
      "metadata": {
        "id": "jgeK9-4m7sZ1"
      },
      "execution_count": null,
      "outputs": []
    }
  ]
}