{
  "nbformat": 4,
  "nbformat_minor": 0,
  "metadata": {
    "colab": {
      "provenance": []
    },
    "kernelspec": {
      "name": "python3",
      "display_name": "Python 3"
    },
    "language_info": {
      "name": "python"
    }
  },
  "cells": [
    {
      "cell_type": "code",
      "execution_count": 1,
      "metadata": {
        "id": "Fns3BzSRVVRk"
      },
      "outputs": [],
      "source": [
        "# question 1\n",
        "def merge(intervals):\n",
        "    intervals.sort(key=lambda x: x[0])\n",
        "    merged = []\n",
        "    for interval in intervals:\n",
        "        if not merged or interval[0] > merged[-1][1]:\n",
        "            merged.append(interval)\n",
        "        else:\n",
        "            merged[-1][1] = max(merged[-1][1], interval[1])\n",
        "    return merged\n"
      ]
    },
    {
      "cell_type": "code",
      "source": [
        "# question 2\n",
        "def sortColors(nums):\n",
        "    count = [0] * 3\n",
        "    for num in nums:\n",
        "        count[num] += 1\n",
        "    index = 0\n",
        "    for color in range(3):\n",
        "        for _ in range(count[color]):\n",
        "            nums[index] = color\n",
        "            index += 1\n",
        "    return nums\n"
      ],
      "metadata": {
        "id": "9bMzyrrUWAY5"
      },
      "execution_count": 2,
      "outputs": []
    },
    {
      "cell_type": "code",
      "source": [
        "# question 3\n",
        "def isBadVersion(version):\n",
        "    # Function provided in the problem statement\n",
        "\n",
        "def firstBadVersion(n):\n",
        "    left, right = 1, n\n",
        "    while left < right:\n",
        "        mid = left + (right - left) // 2\n",
        "        if isBadVersion(mid):\n",
        "            right = mid\n",
        "        else:\n",
        "            left = mid + 1\n",
        "    return left\n"
      ],
      "metadata": {
        "colab": {
          "base_uri": "https://localhost:8080/",
          "height": 130
        },
        "id": "XBHfLePJWDDa",
        "outputId": "ef9dab01-3597-4335-96b3-c62d6a6f91f5"
      },
      "execution_count": 3,
      "outputs": [
        {
          "output_type": "error",
          "ename": "IndentationError",
          "evalue": "ignored",
          "traceback": [
            "\u001b[0;36m  File \u001b[0;32m\"<ipython-input-3-6fc3c0eb208e>\"\u001b[0;36m, line \u001b[0;32m5\u001b[0m\n\u001b[0;31m    def firstBadVersion(n):\u001b[0m\n\u001b[0m    ^\u001b[0m\n\u001b[0;31mIndentationError\u001b[0m\u001b[0;31m:\u001b[0m expected an indented block after function definition on line 2\n"
          ]
        }
      ]
    },
    {
      "cell_type": "code",
      "source": [
        "# question 4\n",
        "def maximumGap(nums):\n",
        "    if len(nums) < 2:\n",
        "        return 0\n",
        "    nums.sort()\n",
        "    max_gap = 0\n",
        "    for i in range(1, len(nums)):\n",
        "        max_gap = max(max_gap, nums[i] - nums[i-1])\n",
        "    return max_gap\n"
      ],
      "metadata": {
        "id": "zA2SVqYuWFWU"
      },
      "execution_count": 4,
      "outputs": []
    },
    {
      "cell_type": "code",
      "source": [
        "# question 5\n",
        "def containsDuplicate(nums):\n",
        "    return len(nums) != len(set(nums))\n"
      ],
      "metadata": {
        "id": "efopXx50WH9G"
      },
      "execution_count": 5,
      "outputs": []
    },
    {
      "cell_type": "code",
      "source": [
        "# question 6\n",
        "def findMinArrowShots(points):\n",
        "    if not points:\n",
        "        return 0\n",
        "    points.sort(key=lambda x: x[1])\n",
        "    shots = 1\n",
        "    end = points[0][1]\n",
        "    for i in range(1, len(points)):\n",
        "        if points[i][0] > end:\n",
        "            shots += 1\n",
        "            end = points[i][1]\n",
        "    return shots\n"
      ],
      "metadata": {
        "id": "8IlX_FtCWKqM"
      },
      "execution_count": 6,
      "outputs": []
    },
    {
      "cell_type": "code",
      "source": [
        "# question 7\n",
        "def lengthOfLIS(nums):\n",
        "    if not nums:\n",
        "        return 0\n",
        "    dp = [1] * len(nums)\n",
        "    for i in range(1, len(nums)):\n",
        "        for j in range(i):\n",
        "            if nums[i] > nums[j]:\n",
        "                dp[i] = max(dp[i], dp[j] + 1)\n",
        "    return max(dp)\n"
      ],
      "metadata": {
        "id": "K3Sq2TUYWN5x"
      },
      "execution_count": 7,
      "outputs": []
    },
    {
      "cell_type": "code",
      "source": [
        "# question 8\n",
        "def find132pattern(nums):\n",
        "    stack = []\n",
        "    s3 = float('-inf')\n",
        "    for num in reversed(nums):\n",
        "        if num < s3:\n",
        "            return True\n",
        "        while stack and stack[-1] < num:\n",
        "            s3 = stack.pop()\n",
        "        stack.append(num)\n",
        "    return False\n"
      ],
      "metadata": {
        "id": "da3L4hpUWSAg"
      },
      "execution_count": 8,
      "outputs": []
    },
    {
      "cell_type": "code",
      "source": [],
      "metadata": {
        "id": "D_XA0i-NWUWH"
      },
      "execution_count": null,
      "outputs": []
    }
  ]
}