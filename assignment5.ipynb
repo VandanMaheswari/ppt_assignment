{
  "nbformat": 4,
  "nbformat_minor": 0,
  "metadata": {
    "colab": {
      "provenance": []
    },
    "kernelspec": {
      "name": "python3",
      "display_name": "Python 3"
    },
    "language_info": {
      "name": "python"
    }
  },
  "cells": [
    {
      "cell_type": "code",
      "execution_count": 1,
      "metadata": {
        "id": "F5vpCjMvxQiX"
      },
      "outputs": [],
      "source": [
        "\n",
        "# 💡 **Question 1**\n",
        "\n",
        "# Convert 1D Array Into 2D Array\n",
        "\n",
        "# You are given a **0-indexed** 1-dimensional (1D) integer array original, and two integers, m and n. You are tasked with creating a 2-dimensional (2D) array with  m rows and n columns using **all** the elements from original.\n",
        "\n",
        "# The elements from indices 0 to n - 1 (**inclusive**) of original should form the first row of the constructed 2D array, the elements from indices n to 2 * n - 1 (**inclusive**) should form the second row of the constructed 2D array, and so on.\n",
        "\n",
        "# Return *an* m x n *2D array constructed according to the above procedure, or an empty 2D array if it is impossible*.\n",
        "\n"
      ]
    },
    {
      "cell_type": "code",
      "source": [
        "def convert_to_2d_array(original, m, n):\n",
        "    if m * n != len(original):\n",
        "        return []\n",
        "\n",
        "    result = []\n",
        "    for i in range(m):\n",
        "        row = original[i * n : (i + 1) * n]\n",
        "        result.append(row)\n",
        "\n",
        "    return result\n",
        "\n",
        "\n",
        "\n",
        "\n",
        "\n",
        "original = [1, 2, 3, 4, 5, 6]\n",
        "m = 2\n",
        "n = 3\n",
        "result = convert_to_2d_array(original, m, n)\n",
        "print(result)\n",
        "\n"
      ],
      "metadata": {
        "colab": {
          "base_uri": "https://localhost:8080/"
        },
        "id": "qaA2xrKiyGbs",
        "outputId": "ff63aecf-77e8-4931-feca-ee3a0b68b8bb"
      },
      "execution_count": 10,
      "outputs": [
        {
          "output_type": "stream",
          "name": "stdout",
          "text": [
            "[[1, 2, 3], [4, 5, 6]]\n"
          ]
        }
      ]
    },
    {
      "cell_type": "code",
      "source": [
        "# <aside>\n",
        "# 💡 **Question 2**\n",
        "\n",
        "# You have n coins and you want to build a staircase with these coins. The staircase consists of k rows where the ith row has exactly i coins. The last row of the staircase **may be** incomplete.\n",
        "\n",
        "# Given the integer n, return *the number of **complete rows** of the staircase you will build*.\n",
        "\n",
        "# </aside>"
      ],
      "metadata": {
        "id": "El6eO9tixcSz"
      },
      "execution_count": 2,
      "outputs": []
    },
    {
      "cell_type": "code",
      "source": [
        "def complete_rows(n):\n",
        "    left = 0\n",
        "    right = n\n",
        "    while left <= right:\n",
        "        mid = left + (right - left) // 2\n",
        "        coins_needed = (mid * (mid + 1)) // 2\n",
        "\n",
        "        if coins_needed <= n:\n",
        "            left = mid + 1\n",
        "        else:\n",
        "            right = mid - 1\n",
        "\n",
        "    return left - 1\n",
        "\n",
        "\n",
        "n = 14\n",
        "result = complete_rows(n)\n",
        "print(result)\n"
      ],
      "metadata": {
        "colab": {
          "base_uri": "https://localhost:8080/"
        },
        "id": "tQ6Gp1zzyLvA",
        "outputId": "1123a0ca-1bc6-46c0-9ed3-6655df54c15f"
      },
      "execution_count": 11,
      "outputs": [
        {
          "output_type": "stream",
          "name": "stdout",
          "text": [
            "4\n"
          ]
        }
      ]
    },
    {
      "cell_type": "code",
      "source": [
        "# <aside>\n",
        "# 💡 **Question 3**\n",
        "\n",
        "# Given an integer array nums sorted in **non-decreasing** order, return *an array of **the squares of each number** sorted in non-decreasing order*.\n",
        "\n",
        "# **Example 1:**\n",
        "\n",
        "# **Input:** nums = [-4,-1,0,3,10]\n",
        "\n",
        "# **Output:** [0,1,9,16,100]\n",
        "\n",
        "# **Explanation:** After squaring, the array becomes [16,1,0,9,100].\n",
        "\n",
        "# After sorting, it becomes [0,1,9,16,100].\n",
        "\n",
        "# </aside>"
      ],
      "metadata": {
        "id": "snrh7i-lxgtn"
      },
      "execution_count": 3,
      "outputs": []
    },
    {
      "cell_type": "code",
      "source": [
        "def sorted_squares(nums):\n",
        "    n = len(nums)\n",
        "    result = [0] * n\n",
        "    left = 0\n",
        "    right = n - 1\n",
        "    index = n - 1\n",
        "\n",
        "    while left <= right:\n",
        "        left_square = nums[left] * nums[left]\n",
        "        right_square = nums[right] * nums[right]\n",
        "\n",
        "        if left_square > right_square:\n",
        "            result[index] = left_square\n",
        "            left += 1\n",
        "        else:\n",
        "            result[index] = right_square\n",
        "            right -= 1\n",
        "\n",
        "        index -= 1\n",
        "\n",
        "    return result\n",
        "\n",
        "\n",
        "nums = [-4, -1, 0, 3, 10]\n",
        "result = sorted_squares(nums)\n",
        "print(result)\n"
      ],
      "metadata": {
        "colab": {
          "base_uri": "https://localhost:8080/"
        },
        "id": "BzMI_A9eyT5s",
        "outputId": "051512d3-4dca-451f-ab5c-232669807b95"
      },
      "execution_count": 12,
      "outputs": [
        {
          "output_type": "stream",
          "name": "stdout",
          "text": [
            "[0, 1, 9, 16, 100]\n"
          ]
        }
      ]
    },
    {
      "cell_type": "code",
      "source": [
        "# <aside>\n",
        "# 💡 **Question 4**\n",
        "\n",
        "# Given two **0-indexed** integer arrays nums1 and nums2, return *a list* answer *of size* 2 *where:*\n",
        "\n",
        "# - answer[0] *is a list of all **distinct** integers in* nums1 *which are **not** present in* nums2*.*\n",
        "# - answer[1] *is a list of all **distinct** integers in* nums2 *which are **not** present in* nums1.\n",
        "\n",
        "# **Note** that the integers in the lists may be returned in **any** order.\n",
        "\n",
        "# </aside>"
      ],
      "metadata": {
        "id": "G8Ss_OPdxlAh"
      },
      "execution_count": 4,
      "outputs": []
    },
    {
      "cell_type": "code",
      "source": [
        "def find_disjoint(nums1, nums2):\n",
        "    set1 = set(nums1)\n",
        "    set2 = set(nums2)\n",
        "\n",
        "    distinct_nums1 = set1 - set2\n",
        "    distinct_nums2 = set2 - set1\n",
        "\n",
        "    return [list(distinct_nums1), list(distinct_nums2)]\n",
        "\n",
        "\n",
        "nums1 = [1, 2, 2, 3, 4]\n",
        "nums2 = [2, 3, 5]\n",
        "result = find_disjoint(nums1, nums2)\n",
        "print(result)\n"
      ],
      "metadata": {
        "colab": {
          "base_uri": "https://localhost:8080/"
        },
        "id": "SD7ZOH7tyanu",
        "outputId": "3d7add86-abda-4d4b-9ef6-e7d105b92089"
      },
      "execution_count": 13,
      "outputs": [
        {
          "output_type": "stream",
          "name": "stdout",
          "text": [
            "[[1, 4], [5]]\n"
          ]
        }
      ]
    },
    {
      "cell_type": "code",
      "source": [
        "# <aside>\n",
        "# 💡 **Question 5**\n",
        "\n",
        "# Given two integer arrays arr1 and arr2, and the integer d, *return the distance value between the two arrays*.\n",
        "\n",
        "# The distance value is defined as the number of elements arr1[i] such that there is not any element arr2[j] where |arr1[i]-arr2[j]| <= d.\n",
        "\n",
        "# </aside>"
      ],
      "metadata": {
        "id": "vPNqTK1DxqCQ"
      },
      "execution_count": 5,
      "outputs": []
    },
    {
      "cell_type": "code",
      "source": [
        "def distance_value(arr1, arr2, d):\n",
        "    distance = 0\n",
        "    for num1 in arr1:\n",
        "        found = False\n",
        "        for num2 in arr2:\n",
        "            if abs(num1 - num2) <= d:\n",
        "                found = True\n",
        "                break\n",
        "        if not found:\n",
        "            distance += 1\n",
        "\n",
        "    return distance\n",
        "\n",
        "arr1 = [4, 5, 8]\n",
        "arr2 = [10, 9, 1, 2]\n",
        "d = 3\n",
        "result = distance_value(arr1, arr2, d)\n",
        "print(result)\n"
      ],
      "metadata": {
        "colab": {
          "base_uri": "https://localhost:8080/"
        },
        "id": "OOftLETbydxZ",
        "outputId": "3fb5f62e-4c9e-41e5-dda5-22efa8e1c057"
      },
      "execution_count": 14,
      "outputs": [
        {
          "output_type": "stream",
          "name": "stdout",
          "text": [
            "0\n"
          ]
        }
      ]
    },
    {
      "cell_type": "code",
      "source": [
        "# <aside>\n",
        "# 💡 **Question 6**\n",
        "\n",
        "# Given an integer array nums of length n where all the integers of nums are in the range [1, n] and each integer appears **once** or **twice**, return *an array of all the integers that appears **twice***.\n",
        "\n",
        "# You must write an algorithm that runs in O(n) time and uses only constant extra space.\n",
        "\n",
        "# </aside>"
      ],
      "metadata": {
        "id": "oLL7KW0sxwz9"
      },
      "execution_count": 6,
      "outputs": []
    },
    {
      "cell_type": "code",
      "source": [
        "\n",
        "\n",
        "def find_duplicates(nums):\n",
        "    duplicates = []\n",
        "    for num in nums:\n",
        "        index = abs(num) - 1\n",
        "        if nums[index] < 0:\n",
        "            duplicates.append(abs(num))\n",
        "        else:\n",
        "            nums[index] = -nums[index]\n",
        "    return duplicates\n"
      ],
      "metadata": {
        "id": "x0L-Pua8yip1"
      },
      "execution_count": 15,
      "outputs": []
    },
    {
      "cell_type": "code",
      "source": [
        "# <aside>\n",
        "# 💡 **Question 7**\n",
        "\n",
        "# Suppose an array of length n sorted in ascending order is **rotated** between 1 and n times. For example, the array nums = [0,1,2,4,5,6,7] might become:\n",
        "\n",
        "# </aside>"
      ],
      "metadata": {
        "id": "z0xo8RZvx27-"
      },
      "execution_count": 7,
      "outputs": []
    },
    {
      "cell_type": "code",
      "source": [
        "def find_minimum(nums):\n",
        "    left = 0\n",
        "    right = len(nums) - 1\n",
        "\n",
        "    while left < right:\n",
        "        mid = left + (right - left) // 2\n",
        "\n",
        "        if nums[mid] > nums[right]:\n",
        "            left = mid + 1\n",
        "        else:\n",
        "            right = mid\n",
        "\n",
        "    return nums[left]\n"
      ],
      "metadata": {
        "id": "l1QiEy2ByotF"
      },
      "execution_count": 16,
      "outputs": []
    },
    {
      "cell_type": "code",
      "source": [
        "# <aside>\n",
        "# 💡 **Question 8**\n",
        "\n",
        "# An integer array original is transformed into a **doubled** array changed by appending **twice the value** of every element in original, and then randomly **shuffling** the resulting array.\n",
        "\n",
        "# </aside>"
      ],
      "metadata": {
        "id": "RaaoGmbXx7m4"
      },
      "execution_count": 8,
      "outputs": []
    },
    {
      "cell_type": "code",
      "source": [
        "import random\n",
        "\n",
        "def double_and_shuffle(original):\n",
        "    doubled = [2 * num for num in original]\n",
        "    random.shuffle(doubled)\n",
        "    return doubled\n"
      ],
      "metadata": {
        "id": "kL_pfUs0ytj3"
      },
      "execution_count": 17,
      "outputs": []
    },
    {
      "cell_type": "code",
      "source": [],
      "metadata": {
        "id": "N2yOsleAyCq1"
      },
      "execution_count": null,
      "outputs": []
    }
  ]
}