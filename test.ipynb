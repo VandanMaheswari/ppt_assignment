{
 "cells": [
  {
   "cell_type": "code",
   "execution_count": null,
   "id": "54fa68a1-e697-4f60-8621-6b0718613a78",
   "metadata": {},
   "outputs": [],
   "source": [
    "# Move Zeroes\n",
    "# Given an integer array nums, move all 0's to the end of it while maintaining the relative order of the non-zero elements.\n",
    "\n",
    "# Note that you must do this in-place without making a copy of the array.\n",
    "\n",
    "# Example 1:\n",
    "# Input: nums = [0,1,0,3,12]\n",
    "# Output: [1,3,12,0,0]\n",
    "\n",
    "# Example 2:\n",
    "# Input: nums = [0]\n",
    "# Output: [0]\n",
    "\n",
    "# Constraints:\n",
    "# a. 1 <= nums.length <= 10^4\n",
    "# b. -2^31 <= nums[i] <= 2^31 - 1\n",
    "\n",
    "# Note: Create a GitHub file for the solution and add the file link the the answer section below."
   ]
  },
  {
   "cell_type": "code",
   "execution_count": 1,
   "id": "30eb1034-e7a6-40c3-8f77-89296dc251da",
   "metadata": {},
   "outputs": [
    {
     "name": "stdout",
     "output_type": "stream",
     "text": [
      "[1, 3, 12, 0, 0]\n"
     ]
    }
   ],
   "source": [
    "def moveZeroes(nums):\n",
    "    i = 0\n",
    "    j = 0\n",
    "    \n",
    "    # Move non-zero elements to the beginning of the array\n",
    "    while i < len(nums):\n",
    "        if nums[i] != 0:\n",
    "            nums[j] = nums[i]\n",
    "            j += 1\n",
    "        i += 1\n",
    "    \n",
    "    # Set remaining elements to zero\n",
    "    while j < len(nums):\n",
    "        nums[j] = 0\n",
    "        j += 1\n",
    "\n",
    "# Test the function\n",
    "nums = [0, 1, 0, 3, 12]\n",
    "moveZeroes(nums)\n",
    "print(nums)  # Output: [1, 3, 12, 0, 0]\n"
   ]
  },
  {
   "cell_type": "code",
   "execution_count": null,
   "id": "704ac8c6-be72-4138-8727-927e1b214096",
   "metadata": {},
   "outputs": [],
   "source": [
    "# First Unique Character in a String\n",
    "\n",
    "# Given a string s, find the first non-repeating character in it and return its index. If it does not exist, return -1.\n",
    "\n",
    "# Example 1:\n",
    "# Input: s = \"leetcode\"\n",
    "# Output: 0\n",
    "\n",
    "# Example 2:\n",
    "# Input: s = \"loveleetcode\"\n",
    "# Output: 2\n",
    "\n",
    "# Example 3:\n",
    "# Input: s = \"aabb\"\n",
    "# Output: -1\n",
    "\n",
    "# Constraints:\n",
    "# a. 1 <= s.length <= 10^5\n",
    "# b. s consists of only lowercase English letters.\n",
    "\n",
    "# Note: Create a GitHub file for the solution and add the file link the the answer section below.\n",
    "# 5 points\n"
   ]
  },
  {
   "cell_type": "code",
   "execution_count": null,
   "id": "bb3ead5c-69c3-4902-960d-10a6ea81dbb5",
   "metadata": {},
   "outputs": [],
   "source": [
    "def firstUniqChar(s):\n",
    "    # Create a hashmap to store the frequency of characters\n",
    "    char_freq = {}\n",
    "    \n",
    "    # Iterate through the string and update the hashmap\n",
    "    for char in s:\n",
    "        if char in char_freq:\n",
    "            char_freq[char] += 1\n",
    "        else:\n",
    "            char_freq[char] = 1\n",
    "    \n",
    "    # Iterate through the string again and find the first non-repeating character\n",
    "    for i, char in enumerate(s):\n",
    "        if char_freq[char] == 1:\n",
    "            return i\n",
    "    \n",
    "    # No non-repeating character found\n",
    "    return -1\n",
    "\n",
    "# Test the function\n",
    "s = \"leetcode\"\n",
    "print(firstUniqChar(s))  # Output: 0\n"
   ]
  }
 ],
 "metadata": {
  "kernelspec": {
   "display_name": "Python 3 (ipykernel)",
   "language": "python",
   "name": "python3"
  },
  "language_info": {
   "codemirror_mode": {
    "name": "ipython",
    "version": 3
   },
   "file_extension": ".py",
   "mimetype": "text/x-python",
   "name": "python",
   "nbconvert_exporter": "python",
   "pygments_lexer": "ipython3",
   "version": "3.10.6"
  }
 },
 "nbformat": 4,
 "nbformat_minor": 5
}
