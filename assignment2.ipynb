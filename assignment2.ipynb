{
 "cells": [
  {
   "cell_type": "code",
   "execution_count": null,
   "id": "f4eb5f6f-bcb4-4e60-a8e1-591e33be8f73",
   "metadata": {},
   "outputs": [],
   "source": [
    "# Question 1\n",
    "# Given an integer array nums of 2n integers, group these integers into n pairs (a1, b1), (a2, b2),\n",
    "# ..., (an, bn) such that the sum of min(ai, bi) for all i is maximized. Return the maximized sum.\n",
    "# Example 1:\n",
    "# Input: nums = [1,4,3,2]\n",
    "# Output: 4\n",
    "# Explanation: All possible pairings (ignoring the ordering of elements) are:\n",
    "# 1. (1, 4), (2, 3) -> min(1, 4) + min(2, 3) = 1 + 2 = 3\n",
    "# 2. (1, 3), (2, 4) -> min(1, 3) + min(2, 4) = 1 + 2 = 3\n",
    "# 3. (1, 2), (3, 4) -> min(1, 2) + min(3, 4) = 1 + 3 = 4\n",
    "# So the maximum possible sum is 4"
   ]
  },
  {
   "cell_type": "code",
   "execution_count": 1,
   "id": "c4002ff6-5423-46d1-8229-d11000922fe6",
   "metadata": {},
   "outputs": [
    {
     "name": "stdout",
     "output_type": "stream",
     "text": [
      "4\n"
     ]
    }
   ],
   "source": [
    "def arrayPairSum(nums):\n",
    "    nums.sort()\n",
    "    max_sum = 0\n",
    "\n",
    "    for i in range(0, len(nums), 2):\n",
    "        max_sum += min(nums[i], nums[i + 1])\n",
    "\n",
    "    return max_sum\n",
    "\n",
    "# Example usage\n",
    "nums = [1, 4, 3, 2]\n",
    "result = arrayPairSum(nums)\n",
    "print(result)  # Output: 4\n"
   ]
  },
  {
   "cell_type": "code",
   "execution_count": null,
   "id": "fbd49264-b593-4f2e-abc7-6b1766e9fba2",
   "metadata": {},
   "outputs": [],
   "source": [
    "# Question 2\n",
    "# Alice has n candies, where the ith candy is of type candyType[i]. Alice noticed that she started\n",
    "# to gain weight, so she visited a doctor.\n",
    "# The doctor advised Alice to only eat n / 2 of the candies she has (n is always even). Alice\n",
    "# likes her candies very much, and she wants to eat the maximum number of different types of\n",
    "# candies while still following the doctor's advice.\n",
    "# Given the integer array candyType of length n, return the maximum number of different types\n",
    "# of candies she can eat if she only eats n / 2 of them.\n",
    "# Example 1:\n",
    "# Input: candyType = [1,1,2,2,3,3]\n",
    "# Output: 3\n",
    "# Explanation: Alice can only eat 6 / 2 = 3 candies. Since there are only 3 types, she can eat one\n",
    "# of each type."
   ]
  },
  {
   "cell_type": "code",
   "execution_count": 2,
   "id": "8ed3dc3e-35ef-4b28-a02c-a2378d696d3c",
   "metadata": {},
   "outputs": [
    {
     "name": "stdout",
     "output_type": "stream",
     "text": [
      "3\n"
     ]
    }
   ],
   "source": [
    "def distributeCandies(candyType):\n",
    "    unique_candies = set()\n",
    "\n",
    "    for candy in candyType:\n",
    "        unique_candies.add(candy)\n",
    "\n",
    "    max_types = len(unique_candies)\n",
    "    max_eat = min(max_types, len(candyType) // 2)\n",
    "\n",
    "    return max_eat\n",
    "\n",
    "# Example usage\n",
    "candyType = [1, 1, 2, 2, 3, 3]\n",
    "result = distributeCandies(candyType)\n",
    "print(result)  # Output: 3\n"
   ]
  },
  {
   "cell_type": "code",
   "execution_count": null,
   "id": "6361b3a2-07b1-47e0-bf0c-d5b96a50e581",
   "metadata": {},
   "outputs": [],
   "source": [
    "# Question 3\n",
    "# We define a harmonious array as an array where the difference between its maximum value\n",
    "# and its minimum value is exactly 1.\n",
    "# Given an integer array nums, return the length of its longest harmonious subsequence\n",
    "# among all its possible subsequences.\n",
    "# A subsequence of an array is a sequence that can be derived from the array by deleting some\n",
    "# or no elements without changing the order of the remaining elements.\n",
    "# Example 1:\n",
    "# Input: nums = [1,3,2,2,5,2,3,7]\n",
    "# Output: 5\n",
    "# Explanation: The longest harmonious subsequence is [3,2,2,2,3]."
   ]
  },
  {
   "cell_type": "code",
   "execution_count": 3,
   "id": "03371eee-30ee-419e-9ebf-3a43eae9d268",
   "metadata": {},
   "outputs": [
    {
     "name": "stdout",
     "output_type": "stream",
     "text": [
      "5\n"
     ]
    }
   ],
   "source": [
    "def findLHS(nums):\n",
    "    num_counts = {}\n",
    "    \n",
    "    for num in nums:\n",
    "        if num not in num_counts:\n",
    "            num_counts[num] = 1\n",
    "        else:\n",
    "            num_counts[num] += 1\n",
    "    \n",
    "    max_length = 0\n",
    "    \n",
    "    for num in num_counts:\n",
    "        if num + 1 in num_counts:\n",
    "            max_length = max(max_length, num_counts[num] + num_counts[num + 1])\n",
    "    \n",
    "    return max_length\n",
    "\n",
    "# Example usage\n",
    "nums = [1, 3, 2, 2, 5, 2, 3, 7]\n",
    "result = findLHS(nums)\n",
    "print(result)  # Output: 5\n"
   ]
  },
  {
   "cell_type": "code",
   "execution_count": null,
   "id": "a3c109f8-8a7c-4c4a-b1ae-578597459b96",
   "metadata": {},
   "outputs": [],
   "source": [
    "# Question 4\n",
    "# You have a long flowerbed in which some of the plots are planted, and some are not.\n",
    "# However, flowers cannot be planted in adjacent plots.\n",
    "# Given an integer array flowerbed containing 0's and 1's, where 0 means empty and 1 means\n",
    "# not empty, and an integer n, return true if n new flowers can be planted in the flowerbed\n",
    "# without violating the no-adjacent-flowers rule and false otherwise.\n",
    "# Example 1:\n",
    "# Input: flowerbed = [1,0,0,0,1], n = 1\n",
    "# Output: true"
   ]
  },
  {
   "cell_type": "code",
   "execution_count": 4,
   "id": "14fdfe8f-270a-408c-88d7-544a5a5d8154",
   "metadata": {},
   "outputs": [
    {
     "name": "stdout",
     "output_type": "stream",
     "text": [
      "True\n"
     ]
    }
   ],
   "source": [
    "def canPlaceFlowers(flowerbed, n):\n",
    "    count = 0\n",
    "\n",
    "    for i in range(len(flowerbed)):\n",
    "        if (\n",
    "            flowerbed[i] == 0\n",
    "            and (i == 0 or flowerbed[i - 1] == 0)\n",
    "            and (i == len(flowerbed) - 1 or flowerbed[i + 1] == 0)\n",
    "        ):\n",
    "            count += 1\n",
    "            flowerbed[i] = 1\n",
    "\n",
    "    return count >= n\n",
    "\n",
    "# Example usage\n",
    "flowerbed = [1, 0, 0, 0, 1]\n",
    "n = 1\n",
    "result = canPlaceFlowers(flowerbed, n)\n",
    "print(result)  # Output: True\n"
   ]
  },
  {
   "cell_type": "code",
   "execution_count": null,
   "id": "d6a40543-cbab-43b8-b77a-4c2818e793ee",
   "metadata": {},
   "outputs": [],
   "source": [
    "# Question 5\n",
    "# Given an integer array nums, find three numbers whose product is maximum and return the\n",
    "# maximum product.\n",
    "# Example 1:\n",
    "# Input: nums = [1,2,3]\n",
    "# Output: 6"
   ]
  },
  {
   "cell_type": "code",
   "execution_count": 5,
   "id": "5ced28c9-1f1f-457a-8a32-ab049d422f39",
   "metadata": {},
   "outputs": [
    {
     "name": "stdout",
     "output_type": "stream",
     "text": [
      "6\n"
     ]
    }
   ],
   "source": [
    "def maximumProduct(nums):\n",
    "    nums.sort()\n",
    "    n = len(nums)\n",
    "    return max(nums[-1] * nums[-2] * nums[-3], nums[0] * nums[1] * nums[-1])\n",
    "\n",
    "# Example usage\n",
    "nums = [1, 2, 3]\n",
    "result = maximumProduct(nums)\n",
    "print(result)  # Output: 6\n"
   ]
  },
  {
   "cell_type": "code",
   "execution_count": null,
   "id": "10024a3f-0fbd-4c78-b996-d425315d107c",
   "metadata": {},
   "outputs": [],
   "source": []
  }
 ],
 "metadata": {
  "kernelspec": {
   "display_name": "Python 3 (ipykernel)",
   "language": "python",
   "name": "python3"
  },
  "language_info": {
   "codemirror_mode": {
    "name": "ipython",
    "version": 3
   },
   "file_extension": ".py",
   "mimetype": "text/x-python",
   "name": "python",
   "nbconvert_exporter": "python",
   "pygments_lexer": "ipython3",
   "version": "3.10.6"
  }
 },
 "nbformat": 4,
 "nbformat_minor": 5
}
