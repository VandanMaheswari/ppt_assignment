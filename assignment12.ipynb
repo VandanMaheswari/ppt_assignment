{
  "nbformat": 4,
  "nbformat_minor": 0,
  "metadata": {
    "colab": {
      "provenance": []
    },
    "kernelspec": {
      "name": "python3",
      "display_name": "Python 3"
    },
    "language_info": {
      "name": "python"
    }
  },
  "cells": [
    {
      "cell_type": "code",
      "execution_count": 1,
      "metadata": {
        "id": "nt0iaYuD0bsj"
      },
      "outputs": [],
      "source": [
        "#  question 1"
      ]
    },
    {
      "cell_type": "code",
      "source": [
        "def delete_middle_node(head):\n",
        "    if not head or not head.next:\n",
        "        return head\n",
        "\n",
        "    slow = head\n",
        "    fast = head\n",
        "    prev = None\n",
        "\n",
        "    while fast and fast.next:\n",
        "        prev = slow\n",
        "        slow = slow.next\n",
        "        fast = fast.next.next\n",
        "\n",
        "    prev.next = slow.next\n",
        "\n",
        "    return head\n"
      ],
      "metadata": {
        "id": "UC-7lVf814pw"
      },
      "execution_count": 2,
      "outputs": []
    },
    {
      "cell_type": "code",
      "source": [
        "# question 2"
      ],
      "metadata": {
        "id": "b2cntdsy2ABo"
      },
      "execution_count": 3,
      "outputs": []
    },
    {
      "cell_type": "code",
      "source": [
        "def has_loop(head):\n",
        "    slow = head\n",
        "    fast = head\n",
        "\n",
        "    while fast and fast.next:\n",
        "        slow = slow.next\n",
        "        fast = fast.next.next\n",
        "\n",
        "        if slow == fast:\n",
        "            return True\n",
        "\n",
        "    return False\n"
      ],
      "metadata": {
        "id": "rRNC80sz2DiA"
      },
      "execution_count": 4,
      "outputs": []
    },
    {
      "cell_type": "code",
      "source": [
        "class ListNode:\n",
        "    def __init__(self, val=0, next=None):\n",
        "        self.val = val\n",
        "        self.next = next\n",
        "\n",
        "# Create a linked list with a loop: 1->2->3->4->5->2 (loop at node with value 2)\n",
        "head = ListNode(1)\n",
        "head.next = ListNode(2)\n",
        "head.next.next = ListNode(3)\n",
        "head.next.next.next = ListNode(4)\n",
        "head.next.next.next.next = ListNode(5)\n",
        "head.next.next.next.next.next = head.next\n",
        "\n",
        "# Check if the linked list has a loop\n",
        "has_loop = has_loop(head)\n",
        "print(has_loop)\n"
      ],
      "metadata": {
        "colab": {
          "base_uri": "https://localhost:8080/"
        },
        "id": "7oeExC0j2EDR",
        "outputId": "868d0d87-8850-4996-fc89-f263fb8fd3f0"
      },
      "execution_count": 5,
      "outputs": [
        {
          "output_type": "stream",
          "name": "stdout",
          "text": [
            "True\n"
          ]
        }
      ]
    },
    {
      "cell_type": "code",
      "source": [
        "# question 3"
      ],
      "metadata": {
        "id": "csGzJdcE2GK4"
      },
      "execution_count": 6,
      "outputs": []
    },
    {
      "cell_type": "code",
      "source": [
        "def find_nth_from_end(head, n):\n",
        "    if not head:\n",
        "        return None\n",
        "\n",
        "    slow = head\n",
        "    fast = head\n",
        "\n",
        "    for _ in range(n):\n",
        "        if not fast:\n",
        "            return None\n",
        "        fast = fast.next\n",
        "\n",
        "    while fast:\n",
        "        slow = slow.next\n",
        "        fast = fast.next\n",
        "\n",
        "    return slow\n"
      ],
      "metadata": {
        "id": "Fh2WYad02Ik1"
      },
      "execution_count": 7,
      "outputs": []
    },
    {
      "cell_type": "code",
      "source": [
        "class ListNode:\n",
        "    def __init__(self, val=0, next=None):\n",
        "        self.val = val\n",
        "        self.next = next\n",
        "\n",
        "# Create a linked list: 1->2->3->4->5->6->7->8->9\n",
        "head = ListNode(1)\n",
        "head.next = ListNode(2)\n",
        "head.next.next = ListNode(3)\n",
        "head.next.next.next = ListNode(4)\n",
        "head.next.next.next.next = ListNode(5)\n",
        "head.next.next.next.next.next = ListNode(6)\n",
        "head.next.next.next.next.next.next = ListNode(7)\n",
        "head\n",
        "\n"
      ],
      "metadata": {
        "colab": {
          "base_uri": "https://localhost:8080/"
        },
        "id": "xRRb19mj2KOE",
        "outputId": "e2e56d98-bda0-4776-8022-c3275c39d673"
      },
      "execution_count": 8,
      "outputs": [
        {
          "output_type": "execute_result",
          "data": {
            "text/plain": [
              "<__main__.ListNode at 0x7f7f5410bd30>"
            ]
          },
          "metadata": {},
          "execution_count": 8
        }
      ]
    },
    {
      "cell_type": "code",
      "source": [
        "# question 4"
      ],
      "metadata": {
        "id": "J3Mvdf5I2ZDi"
      },
      "execution_count": 9,
      "outputs": []
    },
    {
      "cell_type": "code",
      "source": [
        "def is_palindrome(head):\n",
        "    if not head or not head.next:\n",
        "        return True\n",
        "\n",
        "    slow = head\n",
        "    fast = head\n",
        "\n",
        "    while fast and fast.next:\n",
        "        slow = slow.next\n",
        "        fast = fast.next.next\n",
        "\n",
        "    second_half = reverse_linked_list(slow)\n",
        "\n",
        "    while second_half:\n",
        "        if head.val != second_half.val:\n",
        "            return False\n",
        "        head = head.next\n",
        "        second_half = second_half.next\n",
        "\n",
        "    return True\n",
        "\n",
        "def reverse_linked_list(head):\n",
        "    prev = None\n",
        "    current = head\n",
        "\n",
        "    while current:\n",
        "        next_node = current.next\n",
        "        current.next = prev\n",
        "        prev = current\n",
        "        current = next_node\n",
        "\n",
        "    return prev\n"
      ],
      "metadata": {
        "id": "qkMZlk542aJj"
      },
      "execution_count": 10,
      "outputs": []
    },
    {
      "cell_type": "code",
      "source": [
        "# question 5"
      ],
      "metadata": {
        "id": "V5rO9hxl2acT"
      },
      "execution_count": 11,
      "outputs": []
    },
    {
      "cell_type": "code",
      "source": [
        "def remove_loop(head):\n",
        "    if not head or not head.next:\n",
        "        return head\n",
        "\n",
        "    slow = head\n",
        "    fast = head\n",
        "\n",
        "    while fast and fast.next:\n",
        "        slow = slow.next\n",
        "        fast = fast.next.next\n",
        "\n",
        "        if slow == fast:\n",
        "            break\n",
        "\n",
        "    if slow != fast:\n",
        "        return head\n",
        "\n",
        "    slow = head\n",
        "    while slow.next != fast.next:\n",
        "        slow = slow.next\n",
        "        fast = fast.next\n",
        "\n",
        "    fast.next = None\n",
        "\n",
        "    return head\n"
      ],
      "metadata": {
        "id": "C7FBZEJj2eTc"
      },
      "execution_count": 12,
      "outputs": []
    },
    {
      "cell_type": "code",
      "source": [
        "# question 6"
      ],
      "metadata": {
        "id": "RpPLojaB2ehk"
      },
      "execution_count": 13,
      "outputs": []
    },
    {
      "cell_type": "code",
      "source": [
        "def delete_nodes(head, M, N):\n",
        "    if not head:\n",
        "        return head\n",
        "\n",
        "    current = head\n",
        "    count = 1\n",
        "\n",
        "    while current:\n",
        "        if count < M:\n",
        "            current = current.next\n",
        "            count += 1\n",
        "        elif count == M:\n",
        "            temp = current\n",
        "            for _ in range(N):\n",
        "                if temp.next:\n",
        "                    temp = temp.next\n",
        "                else:\n",
        "                    break\n",
        "            current.next = temp.next\n",
        "            current = current.next\n",
        "            count = 1\n",
        "        else:\n",
        "            break\n",
        "\n",
        "    return head\n"
      ],
      "metadata": {
        "id": "jPVuzgfh2hud"
      },
      "execution_count": 14,
      "outputs": []
    },
    {
      "cell_type": "code",
      "source": [
        "# question 7"
      ],
      "metadata": {
        "id": "kllLXprf2h-4"
      },
      "execution_count": 16,
      "outputs": []
    },
    {
      "cell_type": "code",
      "source": [
        "def merge_alternate(head1, head2):\n",
        "    if not head1:\n",
        "        return head2\n",
        "    if not head2:\n",
        "        return head1\n",
        "\n",
        "    current1 = head1\n",
        "    current2 = head2\n",
        "\n",
        "    while current1 and current2:\n",
        "        next1 = current1.next\n",
        "        next2 = current2.next\n",
        "\n",
        "        current1.next = current2\n",
        "        current2.next = next1\n",
        "\n",
        "        current1 = next1\n",
        "        current2 = next2\n",
        "\n",
        "    return head1\n"
      ],
      "metadata": {
        "id": "oScWx4P42js2"
      },
      "execution_count": 17,
      "outputs": []
    },
    {
      "cell_type": "code",
      "source": [
        "# question 8"
      ],
      "metadata": {
        "id": "pn-uehw92mxn"
      },
      "execution_count": 18,
      "outputs": []
    },
    {
      "cell_type": "code",
      "source": [
        "def is_circular(head):\n",
        "    if not head or not head.next:\n",
        "        return False\n",
        "\n",
        "    slow = head\n",
        "    fast = head\n",
        "\n",
        "    while fast and fast.next:\n",
        "        slow = slow.next\n",
        "        fast = fast.next.next\n",
        "\n",
        "        if slow == fast:\n",
        "            return True\n",
        "\n",
        "    return False\n"
      ],
      "metadata": {
        "id": "9Lbk7Lu42oWx"
      },
      "execution_count": 19,
      "outputs": []
    },
    {
      "cell_type": "code",
      "source": [],
      "metadata": {
        "id": "ec-RV1eq2ppq"
      },
      "execution_count": null,
      "outputs": []
    }
  ]
}