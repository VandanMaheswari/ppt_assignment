{
  "nbformat": 4,
  "nbformat_minor": 0,
  "metadata": {
    "colab": {
      "provenance": []
    },
    "kernelspec": {
      "name": "python3",
      "display_name": "Python 3"
    },
    "language_info": {
      "name": "python"
    }
  },
  "cells": [
    {
      "cell_type": "code",
      "execution_count": 1,
      "metadata": {
        "id": "DZjY2RN7y86a"
      },
      "outputs": [],
      "source": [
        "# <aside>\n",
        "# 💡 **Question 1**\n",
        "\n",
        "# A permutation perm of n + 1 integers of all the integers in the range [0, n] can be represented as a string s of length n where:\n",
        "\n",
        "# - s[i] == 'I' if perm[i] < perm[i + 1], and\n",
        "# - s[i] == 'D' if perm[i] > perm[i + 1].\n",
        "\n",
        "# Given a string s, reconstruct the permutation perm and return it. If there are multiple valid permutations perm, return **any of them**.\n",
        "\n",
        "# </aside>"
      ]
    },
    {
      "cell_type": "code",
      "source": [
        "def reconstruct_permutation(s):\n",
        "    n = len(s)\n",
        "    perm = []\n",
        "    low, high = 0, n\n",
        "\n",
        "    for i in range(n):\n",
        "        if s[i] == 'I':\n",
        "            perm.append(low)\n",
        "            low += 1\n",
        "        else:\n",
        "            perm.append(high)\n",
        "            high -= 1\n",
        "\n",
        "    perm.append(low)\n",
        "    return perm\n",
        "\n",
        "s = \"IDID\"\n",
        "perm = reconstruct_permutation(s)\n",
        "print(perm)\n",
        "\n"
      ],
      "metadata": {
        "colab": {
          "base_uri": "https://localhost:8080/"
        },
        "id": "AgCc7NUYzvUW",
        "outputId": "ef1da662-d4c8-46da-83e7-f043c958f45f"
      },
      "execution_count": 10,
      "outputs": [
        {
          "output_type": "stream",
          "name": "stdout",
          "text": [
            "[0, 4, 1, 3, 2]\n"
          ]
        }
      ]
    },
    {
      "cell_type": "code",
      "source": [
        "# <aside>\n",
        "# 💡 **Question 2**\n",
        "\n",
        "# You are given an m x n integer matrix matrix with the following two properties:\n",
        "\n",
        "# - Each row is sorted in non-decreasing order.\n",
        "# - The first integer of each row is greater than the last integer of the previous row.\n",
        "\n",
        "# Given an integer target, return true *if* target *is in* matrix *or* false *otherwise*.\n",
        "\n",
        "# You must write a solution in O(log(m * n)) time complexity.\n",
        "\n",
        "# </aside>"
      ],
      "metadata": {
        "id": "LZMUcuYHzHZg"
      },
      "execution_count": 2,
      "outputs": []
    },
    {
      "cell_type": "code",
      "source": [
        "def search_matrix(matrix, target):\n",
        "    if not matrix or not matrix[0]:\n",
        "        return False\n",
        "\n",
        "    m, n = len(matrix), len(matrix[0])\n",
        "    left, right = 0, m * n - 1\n",
        "\n",
        "    while left <= right:\n",
        "        mid = (left + right) // 2\n",
        "        row = mid // n\n",
        "        col = mid % n\n",
        "        value = matrix[row][col]\n",
        "\n",
        "        if value == target:\n",
        "            return True\n",
        "        elif value < target:\n",
        "            left = mid + 1\n",
        "        else:\n",
        "            right = mid - 1\n",
        "\n",
        "    return False\n"
      ],
      "metadata": {
        "id": "0P7v0ArqzwOg"
      },
      "execution_count": 11,
      "outputs": []
    },
    {
      "cell_type": "code",
      "source": [
        "# <aside>\n",
        "# 💡 **Question 3**\n",
        "\n",
        "# Given an array of integers arr, return *true if and only if it is a valid mountain array*.\n",
        "\n",
        "# Recall that arr is a mountain array if and only if:\n",
        "\n",
        "# - arr.length >= 3\n",
        "# - There exists some i with 0 < i < arr.length - 1 such that:\n",
        "#     - arr[0] < arr[1] < ... < arr[i - 1] < arr[i]\n",
        "#     - arr[i] > arr[i + 1] > ... > arr[arr.length - 1]\n",
        "# </aside>"
      ],
      "metadata": {
        "id": "2PpQc3MzzOOB"
      },
      "execution_count": 3,
      "outputs": []
    },
    {
      "cell_type": "code",
      "source": [
        "def valid_mountain_array(arr):\n",
        "    n = len(arr)\n",
        "    if n < 3:\n",
        "        return False\n",
        "\n",
        "    i = 0\n",
        "\n",
        "    while i < n - 1 and arr[i] < arr[i + 1]:\n",
        "        i += 1\n",
        "\n",
        "    if i == 0 or i == n - 1:\n",
        "        return False\n",
        "\n",
        "    while i < n - 1 and arr[i] > arr[i + 1]:\n",
        "        i += 1\n",
        "\n",
        "    return i == n - 1\n",
        "\n",
        "\n",
        "arr = [0, 3, 2, 1]\n",
        "is_valid_mountain = valid_mountain_array(arr)\n",
        "print(is_valid_mountain)\n"
      ],
      "metadata": {
        "colab": {
          "base_uri": "https://localhost:8080/"
        },
        "id": "lGKx8Eexz387",
        "outputId": "24bb0ac5-234b-4ded-affc-55166701e988"
      },
      "execution_count": 12,
      "outputs": [
        {
          "output_type": "stream",
          "name": "stdout",
          "text": [
            "True\n"
          ]
        }
      ]
    },
    {
      "cell_type": "code",
      "source": [
        "# <aside>\n",
        "# 💡 **Question 4**\n",
        "\n",
        "# Given a binary array nums, return *the maximum length of a contiguous subarray with an equal number of* 0 *and* 1.\n",
        "\n",
        "# </aside>"
      ],
      "metadata": {
        "id": "sKqQdrnszSpD"
      },
      "execution_count": 4,
      "outputs": []
    },
    {
      "cell_type": "code",
      "source": [
        "def find_max_length(nums):\n",
        "    max_length = 0\n",
        "    count = 0\n",
        "    count_dict = {0: -1}\n",
        "\n",
        "    for i, num in enumerate(nums):\n",
        "        if num == 1:\n",
        "            count += 1\n",
        "        else:\n",
        "            count -= 1\n",
        "\n",
        "        if count in count_dict:\n",
        "            max_length = max(max_length, i - count_dict[count])\n",
        "        else:\n",
        "            count_dict[count] = i\n",
        "\n",
        "    return max_length\n",
        "\n"
      ],
      "metadata": {
        "id": "iZra5gZfz8Ki"
      },
      "execution_count": 13,
      "outputs": []
    },
    {
      "cell_type": "code",
      "source": [
        "# <aside>\n",
        "# 💡 **Question 5**\n",
        "\n",
        "# The **product sum** of two equal-length arrays a and b is equal to the sum of a[i] * b[i] for all 0 <= i < a.length (**0-indexed**).\n",
        "\n",
        "# - For example, if a = [1,2,3,4] and b = [5,2,3,1], the **product sum** would be 1*5 + 2*2 + 3*3 + 4*1 = 22.\n",
        "\n",
        "# Given two arrays nums1 and nums2 of length n, return *the **minimum product sum** if you are allowed to **rearrange** the **order** of the elements in* nums1.\n",
        "\n",
        "# </aside>"
      ],
      "metadata": {
        "id": "KFKuaT40zXRf"
      },
      "execution_count": 5,
      "outputs": []
    },
    {
      "cell_type": "code",
      "source": [
        "def min_product_sum(nums1, nums2):\n",
        "    nums1.sort()\n",
        "    nums2.sort(reverse=True)\n",
        "    n = len(nums1)\n",
        "    min_sum = 0\n",
        "\n",
        "    for i in range(n):\n",
        "        min_sum += nums1[i] * nums2[i]\n",
        "\n",
        "    return min_sum\n",
        "nums1 = [1, 2, 3, 4]\n",
        "nums2 = [5, 2, 3, 1]\n",
        "min_sum = min_product_sum(nums1, nums2)\n",
        "print(min_sum)\n"
      ],
      "metadata": {
        "colab": {
          "base_uri": "https://localhost:8080/"
        },
        "id": "8bo8tJdQz_j3",
        "outputId": "85ea8a6f-27ff-46b3-c988-f7c9c2ea010b"
      },
      "execution_count": 14,
      "outputs": [
        {
          "output_type": "stream",
          "name": "stdout",
          "text": [
            "21\n"
          ]
        }
      ]
    },
    {
      "cell_type": "code",
      "source": [
        "# <aside>\n",
        "# 💡 **Question 6**\n",
        "\n",
        "# An integer array original is transformed into a **doubled** array changed by appending **twice the value** of every element in original, and then randomly **shuffling** the resulting array.\n",
        "\n",
        "# Given an array changed, return original *if* changed *is a **doubled** array. If* changed *is not a **doubled** array, return an empty array. The elements in* original *may be returned in **any** order*.\n",
        "\n",
        "# </aside>"
      ],
      "metadata": {
        "id": "MVJ4V8WszbC7"
      },
      "execution_count": 6,
      "outputs": []
    },
    {
      "cell_type": "code",
      "source": [
        "def find_original(changed):\n",
        "    count = {}\n",
        "    original = []\n",
        "\n",
        "    for num in changed:\n",
        "        if num in count:\n",
        "            count[num] -= 1\n",
        "            if count[num] == 0:\n",
        "                del count[num]\n",
        "        else:\n",
        "            count[num] = 1\n",
        "\n",
        "    for num in changed:\n",
        "        half = num // 2\n",
        "        if half in count and count[half] > 0:\n",
        "            original.append(half)\n",
        "            count[half] -=\n"
      ],
      "metadata": {
        "colab": {
          "base_uri": "https://localhost:8080/",
          "height": 130
        },
        "id": "QjTRaGkK0F4l",
        "outputId": "086c917c-9deb-4493-8421-cd753288a2c3"
      },
      "execution_count": 15,
      "outputs": [
        {
          "output_type": "error",
          "ename": "SyntaxError",
          "evalue": "ignored",
          "traceback": [
            "\u001b[0;36m  File \u001b[0;32m\"<ipython-input-15-d0df1a5e6492>\"\u001b[0;36m, line \u001b[0;32m17\u001b[0m\n\u001b[0;31m    count[half] -=\u001b[0m\n\u001b[0m                   ^\u001b[0m\n\u001b[0;31mSyntaxError\u001b[0m\u001b[0;31m:\u001b[0m invalid syntax\n"
          ]
        }
      ]
    },
    {
      "cell_type": "code",
      "source": [
        "# <aside>\n",
        "# 💡 **Question 7**\n",
        "\n",
        "# Given a positive integer n, generate an n x n matrix filled with elements from 1 to n2 in spiral order.\n",
        "\n",
        "# </aside>"
      ],
      "metadata": {
        "id": "xtyt79mwzgOp"
      },
      "execution_count": 7,
      "outputs": []
    },
    {
      "cell_type": "code",
      "source": [
        "def generate_spiral_matrix(n):\n",
        "    matrix = [[0] * n for _ in range(n)]\n",
        "    num = 1\n",
        "    left, right, top, bottom = 0, n - 1, 0, n - 1\n",
        "\n",
        "    while num <= n * n:\n",
        "        # Traverse right\n",
        "        for i in range(left, right + 1):\n",
        "            matrix[top][i] = num\n",
        "            num += 1\n",
        "        top += 1\n",
        "\n",
        "        # Traverse down\n",
        "        for i in range(top, bottom + 1):\n",
        "            matrix[i][right] = num\n",
        "            num += 1\n",
        "        right -= 1\n",
        "\n",
        "        # Traverse left\n",
        "        for i in range(right, left - 1, -1):\n",
        "            matrix[bottom][i] = num\n",
        "            num += 1\n",
        "        bottom -= 1\n",
        "\n",
        "        # Traverse up\n",
        "        for i in range(bottom, top - 1, -1):\n",
        "            matrix[i][left] = num\n",
        "            num += 1\n",
        "        left += 1\n",
        "\n",
        "    return matrix\n"
      ],
      "metadata": {
        "id": "iN4rhM830J0-"
      },
      "execution_count": 16,
      "outputs": []
    },
    {
      "cell_type": "code",
      "source": [
        "# <aside>\n",
        "# 💡 **Question 8**\n",
        "\n",
        "# Given two [sparse matrices](https://en.wikipedia.org/wiki/Sparse_matrix) mat1 of size m x k and mat2 of size k x n, return the result of mat1 x mat2. You may assume that multiplication is always possible.\n",
        "\n",
        "# </aside>"
      ],
      "metadata": {
        "id": "GPMIygwMzlLl"
      },
      "execution_count": 8,
      "outputs": []
    },
    {
      "cell_type": "code",
      "source": [
        "def multiply_sparse_matrices(mat1, mat2):\n",
        "    m, k = len(mat1), len(mat1[0])\n",
        "    k2, n = len(mat2), len(mat2[0])\n",
        "    result = [[0] * n for _ in range(m)]\n",
        "\n",
        "    for i in range(m):\n",
        "        for j in range(n):\n",
        "            for x in range(k):\n",
        "                result[i][j] += mat1[i][x] * mat2[x][j]\n",
        "\n",
        "    return result\n"
      ],
      "metadata": {
        "id": "JZir5vSkzpv8"
      },
      "execution_count": 18,
      "outputs": []
    },
    {
      "cell_type": "code",
      "source": [
        "mat1 = [[1, 0, 0], [-1, 0, 3]]\n",
        "mat2 = [[7, 0, 0], [0, 0, 0], [0, 0, 1]]\n",
        "result = multiply_sparse_matrices(mat1, mat2)\n",
        "for row in result:\n",
        "    print(row)\n"
      ],
      "metadata": {
        "id": "eHwThlJ60O_6",
        "outputId": "569a74f2-e813-4dc9-e7b3-546e913ef131",
        "colab": {
          "base_uri": "https://localhost:8080/"
        }
      },
      "execution_count": 19,
      "outputs": [
        {
          "output_type": "stream",
          "name": "stdout",
          "text": [
            "[7, 0, 0]\n",
            "[-7, 0, 3]\n"
          ]
        }
      ]
    },
    {
      "cell_type": "code",
      "source": [],
      "metadata": {
        "id": "DYDEKqMs0PHh"
      },
      "execution_count": null,
      "outputs": []
    }
  ]
}