{
  "nbformat": 4,
  "nbformat_minor": 0,
  "metadata": {
    "colab": {
      "provenance": []
    },
    "kernelspec": {
      "name": "python3",
      "display_name": "Python 3"
    },
    "language_info": {
      "name": "python"
    }
  },
  "cells": [
    {
      "cell_type": "code",
      "execution_count": 1,
      "metadata": {
        "id": "3C9CjOTrYl7R"
      },
      "outputs": [],
      "source": [
        "# q1\n",
        "class TreeNode:\n",
        "    def __init__(self, val):\n",
        "        self.val = val\n",
        "        self.left = None\n",
        "        self.right = None\n",
        "\n",
        "def convertToBST(root):\n",
        "    def inorderTraversal(node):\n",
        "        if node is None:\n",
        "            return []\n",
        "        return inorderTraversal(node.left) + [node.val] + inorderTraversal(node.right)\n",
        "\n",
        "    def modifyTree(node, values):\n",
        "        if node is None:\n",
        "            return\n",
        "        modifyTree(node.left, values)\n",
        "        node.val = values.pop(0)\n",
        "        modifyTree(node.right, values)\n",
        "\n",
        "    values = inorderTraversal(root)\n",
        "    values.sort()\n",
        "    modifyTree(root, values)\n",
        "    return root\n",
        "\n",
        "# Example usage:\n",
        "root = TreeNode(10)\n",
        "root.left = TreeNode(2)\n",
        "root.right = TreeNode(7)\n",
        "root.left.left = TreeNode(8)\n",
        "root.left.right = TreeNode(4)\n",
        "\n",
        "bstRoot = convertToBST(root)\n",
        "# Print the modified binary search tree\n",
        "# ...\n"
      ]
    },
    {
      "cell_type": "code",
      "source": [
        "# q3\n",
        "class TreeNode:\n",
        "    def __init__(self, val):\n",
        "        self.val = val\n",
        "        self.left = None\n",
        "        self.right = None\n",
        "\n",
        "def convertToDLL(root):\n",
        "    global prev\n",
        "    prev = None\n",
        "\n",
        "    def convert(node):\n",
        "        global prev\n",
        "        if node is None:\n",
        "            return\n",
        "        convert(node.left)\n",
        "        if prev:\n",
        "            prev.right = node\n",
        "            node.left = prev\n",
        "        prev = node\n",
        "        convert(node.right)\n",
        "\n",
        "    convert(root)\n",
        "    head = root\n",
        "    while head and head.left:\n",
        "        head = head.left\n",
        "    return head\n",
        "\n",
        "# Example usage:\n",
        "root = TreeNode(10)\n",
        "root.left = TreeNode(5)\n",
        "root.right = TreeNode(20)\n",
        "root.right.left = TreeNode(30)\n",
        "root.right.right = TreeNode(35)\n",
        "\n",
        "head = convertToDLL(root)\n",
        "# Traverse the doubly linked list from left to right\n",
        "# ...\n"
      ],
      "metadata": {
        "id": "MnHnJN8jYqVZ"
      },
      "execution_count": 3,
      "outputs": []
    },
    {
      "cell_type": "code",
      "source": [
        "# q4\n",
        "class TreeNode:\n",
        "    def __init__(self, val):\n",
        "        self.val = val\n",
        "        self.left = None\n",
        "        self.right = None\n",
        "        self.next = None\n",
        "\n",
        "def connectNodesAtSameLevel(root):\n",
        "    if root is None:\n",
        "        return None\n",
        "\n",
        "    queue = [root, None]\n",
        "\n",
        "    while queue:\n",
        "        node = queue.pop(0)\n",
        "\n",
        "        if node is None:\n",
        "            if queue:\n",
        "                queue.append(None)\n",
        "        else:\n",
        "            node.next = queue[0] if queue[0] is not None else None\n",
        "\n",
        "            if node.left:\n",
        "                queue.append(node.left)\n",
        "            if node.right:\n",
        "                queue.append(node.right)\n",
        "\n",
        "    return root\n",
        "\n",
        "# Example usage:\n",
        "root = TreeNode(1)\n",
        "root.left = TreeNode(2)\n",
        "root.right = TreeNode(3)\n",
        "root.left.left = TreeNode(4)\n",
        "root.left.right = TreeNode(5)\n",
        "root.right.left = TreeNode(6)\n",
        "root.right.right = TreeNode(7)\n",
        "\n",
        "connectedRoot = connectNodesAtSameLevel(root)\n",
        "# Traverse the tree and print the connected nodes at the same level\n",
        "# ...\n"
      ],
      "metadata": {
        "id": "qMc0x1elYt1-"
      },
      "execution_count": 4,
      "outputs": []
    },
    {
      "cell_type": "code",
      "source": [],
      "metadata": {
        "id": "AWgl9hutYx3C"
      },
      "execution_count": null,
      "outputs": []
    }
  ]
}