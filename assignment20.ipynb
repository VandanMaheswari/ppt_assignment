{
  "nbformat": 4,
  "nbformat_minor": 0,
  "metadata": {
    "colab": {
      "provenance": []
    },
    "kernelspec": {
      "name": "python3",
      "display_name": "Python 3"
    },
    "language_info": {
      "name": "python"
    }
  },
  "cells": [
    {
      "cell_type": "code",
      "execution_count": 1,
      "metadata": {
        "colab": {
          "base_uri": "https://localhost:8080/"
        },
        "id": "F8lYNCd1X0FF",
        "outputId": "fed6a8fc-0f63-4918-87b6-0de1b6be25fb"
      },
      "outputs": [
        {
          "output_type": "stream",
          "name": "stdout",
          "text": [
            "Maximum Subtree Sum: 28\n"
          ]
        }
      ],
      "source": [
        "# q1\n",
        "class TreeNode:\n",
        "    def __init__(self, val):\n",
        "        self.val = val\n",
        "        self.left = None\n",
        "        self.right = None\n",
        "\n",
        "def findMaxSubtreeSum(root):\n",
        "    global maxSum\n",
        "    global maxSumNode\n",
        "    maxSum = float('-inf')\n",
        "    maxSumNode = None\n",
        "\n",
        "    def findSubtreeSum(node):\n",
        "        global maxSum\n",
        "        global maxSumNode\n",
        "        if node is None:\n",
        "            return 0\n",
        "        leftSum = findSubtreeSum(node.left)\n",
        "        rightSum = findSubtreeSum(node.right)\n",
        "        subtreeSum = leftSum + rightSum + node.val\n",
        "        if subtreeSum > maxSum:\n",
        "            maxSum = subtreeSum\n",
        "            maxSumNode = node\n",
        "        return subtreeSum\n",
        "\n",
        "    findSubtreeSum(root)\n",
        "    return maxSum\n",
        "\n",
        "# Example usage:\n",
        "root = TreeNode(1)\n",
        "root.left = TreeNode(2)\n",
        "root.right = TreeNode(3)\n",
        "root.left.left = TreeNode(4)\n",
        "root.left.right = TreeNode(5)\n",
        "root.right.left = TreeNode(6)\n",
        "root.right.right = TreeNode(7)\n",
        "\n",
        "maxSubtreeSum = findMaxSubtreeSum(root)\n",
        "print(\"Maximum Subtree Sum:\", maxSubtreeSum)\n"
      ]
    },
    {
      "cell_type": "code",
      "source": [
        "# q2\n",
        "class TreeNode:\n",
        "    def __init__(self, val):\n",
        "        self.val = val\n",
        "        self.left = None\n",
        "        self.right = None\n",
        "\n",
        "def constructBSTFromLevelOrder(levelOrder):\n",
        "    if not levelOrder:\n",
        "        return None\n",
        "\n",
        "    root = TreeNode(levelOrder[0])\n",
        "    queue = [root]\n",
        "    i = 1\n",
        "\n",
        "    while queue:\n",
        "        node = queue.pop(0)\n",
        "\n",
        "        if i < len(levelOrder):\n",
        "            if levelOrder[i] is not None:\n",
        "                node.left = TreeNode(levelOrder[i])\n",
        "                queue.append(node.left)\n",
        "            i += 1\n",
        "\n",
        "        if i < len(levelOrder):\n",
        "            if levelOrder[i] is not None:\n",
        "                node.right = TreeNode(levelOrder[i])\n",
        "                queue.append(node.right)\n",
        "            i += 1\n",
        "\n",
        "    return root\n",
        "\n",
        "# Example usage:\n",
        "levelOrder = [7, 4, 12, 3, 6, 8, 1, 5, 10]\n",
        "root = constructBSTFromLevelOrder(levelOrder)\n",
        "# Print the constructed BST\n",
        "# ...\n"
      ],
      "metadata": {
        "id": "Jhi2gGGfX_aX"
      },
      "execution_count": 2,
      "outputs": []
    },
    {
      "cell_type": "code",
      "source": [],
      "metadata": {
        "id": "VtEHcCI6YDIr"
      },
      "execution_count": null,
      "outputs": []
    }
  ]
}