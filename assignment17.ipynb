{
  "nbformat": 4,
  "nbformat_minor": 0,
  "metadata": {
    "colab": {
      "provenance": []
    },
    "kernelspec": {
      "name": "python3",
      "display_name": "Python 3"
    },
    "language_info": {
      "name": "python"
    }
  },
  "cells": [
    {
      "cell_type": "code",
      "execution_count": 1,
      "metadata": {
        "id": "YIvTpwgmTdyE"
      },
      "outputs": [],
      "source": [
        "# question 1\n",
        "def first_non_repeating_character(s):\n",
        "    char_count = {}\n",
        "    char_order = []\n",
        "\n",
        "    for char in s:\n",
        "        char_count[char] = char_count.get(char, 0) + 1\n",
        "        char_order.append(char)\n",
        "\n",
        "    for char in char_order:\n",
        "        if char_count[char] == 1:\n",
        "            return s.index(char)\n",
        "\n",
        "    return -1\n"
      ]
    },
    {
      "cell_type": "code",
      "source": [
        "# question 2\n",
        "def max_subarray_sum_circular(nums):\n",
        "    max_sum = float('-inf')\n",
        "    min_sum = float('inf')\n",
        "    total_sum = 0\n",
        "    current_max = 0\n",
        "    current_min = 0\n",
        "\n",
        "    for num in nums:\n",
        "        total_sum += num\n",
        "        current_max = max(current_max + num, num)\n",
        "        current_min = min(current_min + num, num)\n",
        "        max_sum = max(max_sum, current_max)\n",
        "        min_sum = min(min_sum, current_min)\n",
        "\n",
        "    if max_sum > 0:\n",
        "        return max(max_sum, total_sum - min_sum)\n",
        "    else:\n",
        "        return max_sum\n"
      ],
      "metadata": {
        "id": "0vdFSpQPT0Bk"
      },
      "execution_count": 3,
      "outputs": []
    },
    {
      "cell_type": "code",
      "source": [
        "# question 4\n",
        "class RecentCounter:\n",
        "    def __init__(self):\n",
        "        self.requests = []\n",
        "\n",
        "    def ping(self, t):\n",
        "        self.requests.append(t)\n",
        "\n",
        "        while self.requests[0] < t - 3000:\n",
        "            self.requests.pop(0)\n",
        "\n",
        "        return len(self.requests)\n"
      ],
      "metadata": {
        "id": "t86l9tRKT42O"
      },
      "execution_count": 4,
      "outputs": []
    },
    {
      "cell_type": "code",
      "source": [
        "# question 7\n",
        "from collections import deque\n",
        "\n",
        "class FrontMiddleBack:\n",
        "    def __init__(self):\n",
        "        self.queue = deque()\n",
        "\n",
        "    def pushFront(self, val):\n",
        "        self.queue.appendleft(val)\n",
        "\n",
        "    def pushMiddle(self, val):\n",
        "        middle = len(self.queue) // 2\n",
        "        self.queue.insert(middle, val)\n",
        "\n",
        "    def pushBack(self, val):\n",
        "        self.queue.append(val)\n",
        "\n",
        "    def popFront(self):\n",
        "        if not self.queue:\n",
        "            return -1\n",
        "        return self.queue.popleft()\n",
        "\n",
        "    def popMiddle(self):\n",
        "        if not self.queue:\n",
        "            return -1\n",
        "        middle = len(self.queue) // 2\n",
        "        return self.queue.pop(middle)\n",
        "\n",
        "    def popBack(self):\n",
        "        if not self.queue:\n",
        "            return -1\n",
        "        return self.queue.pop()\n"
      ],
      "metadata": {
        "id": "h2kGNOfZUaOj"
      },
      "execution_count": 9,
      "outputs": []
    },
    {
      "cell_type": "code",
      "source": [
        "# question 8\n",
        "from collections import deque\n",
        "\n",
        "class DataStream:\n",
        "    def __init__(self, value, k):\n",
        "        self.stream = deque()\n",
        "        self.value = value\n",
        "        self.k = k\n",
        "\n",
        "    def consec(self, num):\n",
        "        self.stream.append(num)\n",
        "\n",
        "        if len(self.stream) < self.k:\n",
        "            return False\n",
        "\n",
        "        return all(x == self.value for x in self.stream[-self.k:])\n",
        "\n"
      ],
      "metadata": {
        "id": "2GCVFLYDUEOr"
      },
      "execution_count": 7,
      "outputs": []
    },
    {
      "cell_type": "code",
      "source": [],
      "metadata": {
        "id": "wKCMio3zUO5H"
      },
      "execution_count": null,
      "outputs": []
    }
  ]
}