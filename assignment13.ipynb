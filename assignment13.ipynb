{
  "nbformat": 4,
  "nbformat_minor": 0,
  "metadata": {
    "colab": {
      "provenance": []
    },
    "kernelspec": {
      "name": "python3",
      "display_name": "Python 3"
    },
    "language_info": {
      "name": "python"
    }
  },
  "cells": [
    {
      "cell_type": "code",
      "execution_count": 1,
      "metadata": {
        "id": "QsoPCTBm32KY"
      },
      "outputs": [],
      "source": [
        "# question 1"
      ]
    },
    {
      "cell_type": "code",
      "source": [
        "class ListNode:\n",
        "    def __init__(self, val=0, next=None):\n",
        "        self.val = val\n",
        "        self.next = next\n",
        "\n",
        "def merge_greater_nodes(head1, head2):\n",
        "    if not head1:\n",
        "        return head2\n",
        "    if not head2:\n",
        "        return head1\n",
        "\n",
        "    dummy = ListNode()\n",
        "    current = dummy\n",
        "\n",
        "    while head1 and head2:\n",
        "        if head1.val >= head2.val:\n",
        "            current.next = head1\n",
        "            head1 = head1.next\n",
        "        else:\n",
        "            current.next = head2\n",
        "            head2 = head2.next\n",
        "        current = current.next\n",
        "\n",
        "    if head1:\n",
        "        current.next = head1\n",
        "    if head2:\n",
        "        current.next = head2\n",
        "\n",
        "    return dummy.next\n"
      ],
      "metadata": {
        "id": "7EERYIsS36Bt"
      },
      "execution_count": 2,
      "outputs": []
    },
    {
      "cell_type": "code",
      "source": [
        "# question 2"
      ],
      "metadata": {
        "id": "q1b8_bTU38Sc"
      },
      "execution_count": 3,
      "outputs": []
    },
    {
      "cell_type": "code",
      "source": [
        "class ListNode:\n",
        "    def __init__(self, val=0, next=None):\n",
        "        self.val = val\n",
        "        self.next = next\n",
        "\n",
        "def remove_duplicates(head):\n",
        "    if not head:\n",
        "        return head\n",
        "\n",
        "    current = head\n",
        "\n",
        "    while current and current.next:\n",
        "        if current.val == current.next.val:\n",
        "            current.next = current.next.next\n",
        "        else:\n",
        "            current = current.next\n",
        "\n",
        "    return head\n"
      ],
      "metadata": {
        "id": "45_mk9qw4AHF"
      },
      "execution_count": 4,
      "outputs": []
    },
    {
      "cell_type": "code",
      "source": [
        "# question 3"
      ],
      "metadata": {
        "id": "hCtTQmI84AXa"
      },
      "execution_count": 5,
      "outputs": []
    },
    {
      "cell_type": "code",
      "source": [
        "class ListNode:\n",
        "    def __init__(self, val=0, next=None):\n",
        "        self.val = val\n",
        "        self.next = next\n",
        "\n",
        "def reverse_k_nodes(head, k):\n",
        "    if not head or k == 1:\n",
        "        return head\n",
        "\n",
        "    dummy = ListNode()\n",
        "    dummy.next = head\n",
        "\n",
        "    prev = dummy\n",
        "    current = head\n",
        "    count = 0\n",
        "\n",
        "    while current:\n",
        "        count += 1\n",
        "        if count % k == 0:\n",
        "            prev = reverse_sublist(prev, current.next)\n",
        "            current = prev.next\n",
        "        else:\n",
        "            current = current.next\n",
        "\n",
        "    return dummy.next\n",
        "\n",
        "def reverse_sublist(prev, next_node):\n",
        "    last_node = prev.next\n",
        "    current = last_node.next\n",
        "\n",
        "    while current != next_node:\n",
        "        last_node.next = current.next\n",
        "        current.next = prev.next\n",
        "        prev.next = current\n",
        "        current = last_node.next\n",
        "\n",
        "    return last_node\n"
      ],
      "metadata": {
        "id": "MnZc1Jhp4CKo"
      },
      "execution_count": 6,
      "outputs": []
    },
    {
      "cell_type": "code",
      "source": [
        "# question 4"
      ],
      "metadata": {
        "id": "XrL7dZsR4D7s"
      },
      "execution_count": 7,
      "outputs": []
    },
    {
      "cell_type": "code",
      "source": [
        "class ListNode:\n",
        "    def __init__(self, val=0, next=None):\n",
        "        self.val = val\n",
        "        self.next = next\n",
        "\n",
        "def reverse_alternate_k_nodes(head, k):\n",
        "    if not head or k == 1:\n",
        "        return head\n",
        "\n",
        "    dummy = ListNode()\n",
        "    dummy.next = head\n",
        "\n",
        "    prev = dummy\n",
        "    current = head\n",
        "    count = 0\n",
        "\n",
        "    while current:\n",
        "        count += 1\n",
        "        if count % (2 * k) == k:\n",
        "            prev = reverse_sublist(prev, current.next, k)\n",
        "            current = prev.next\n",
        "        else:\n",
        "            current = current.next\n",
        "\n",
        "    return dummy.next\n",
        "\n",
        "def reverse_sublist(prev, next_node, k):\n",
        "    last_node = prev.next\n",
        "    current = last_node.next\n",
        "\n",
        "    for _ in range(k - 1):\n",
        "        last_node.next = current.next\n",
        "        current.next = prev.next\n",
        "        prev.next = current\n",
        "        current = last_node.next\n",
        "\n",
        "    last_node.next = next_node\n",
        "\n",
        "    return last_node\n"
      ],
      "metadata": {
        "id": "_fvtLstE4Lxu"
      },
      "execution_count": 8,
      "outputs": []
    },
    {
      "cell_type": "code",
      "source": [
        "# question 5"
      ],
      "metadata": {
        "id": "Eno7_Th84L_i"
      },
      "execution_count": 9,
      "outputs": []
    },
    {
      "cell_type": "code",
      "source": [
        "class ListNode:\n",
        "    def __init__(self, val=0, next=None):\n",
        "        self.val = val\n",
        "        self.next = next\n",
        "\n",
        "def delete_last_occurrence(head, key):\n",
        "    if not head:\n",
        "        return head\n",
        "\n",
        "    dummy = ListNode()\n",
        "    dummy.next = head\n",
        "    current = head\n",
        "    last_occurrence = None\n",
        "    prev = None\n",
        "\n",
        "    while current:\n",
        "        if current.val == key:\n",
        "            last_occurrence = current\n",
        "        current = current.next\n",
        "\n",
        "    if last_occurrence:\n",
        "        current = head\n",
        "        while current.next != last_occurrence.next:\n",
        "            prev = current\n",
        "            current = current.next\n",
        "        prev.next = current.next\n",
        "\n",
        "    return dummy.next\n"
      ],
      "metadata": {
        "id": "VE48vGmo4QRy"
      },
      "execution_count": 10,
      "outputs": []
    },
    {
      "cell_type": "code",
      "source": [
        "# question 6"
      ],
      "metadata": {
        "id": "5GxkRYYp4Qh-"
      },
      "execution_count": 11,
      "outputs": []
    },
    {
      "cell_type": "code",
      "source": [
        "class ListNode:\n",
        "    def __init__(self, val=0, next=None):\n",
        "        self.val = val\n",
        "        self.next = next\n",
        "\n",
        "def merge_sorted_lists(head1, head2):\n",
        "    if not head1:\n",
        "        return head2\n",
        "    if not head2:\n",
        "        return head1\n",
        "\n",
        "    dummy = ListNode()\n",
        "    current = dummy\n",
        "\n",
        "    while head1 and head2:\n",
        "        if head1.val <= head2.val:\n",
        "            current.next = head1\n",
        "            head1 = head1.next\n",
        "        else:\n",
        "            current.next = head2\n",
        "            head2 = head2.next\n",
        "        current = current.next\n",
        "\n",
        "    if head1:\n",
        "        current.next = head1\n",
        "    if head2:\n",
        "        current.next = head2\n",
        "\n",
        "    return dummy.next\n"
      ],
      "metadata": {
        "id": "f0a6xQci4SKK"
      },
      "execution_count": 12,
      "outputs": []
    },
    {
      "cell_type": "code",
      "source": [
        "# question 7\n",
        "class ListNode:\n",
        "    def __init__(self, val=0, prev=None, next=None):\n",
        "        self.val = val\n",
        "        self.prev = prev\n",
        "        self.next = next\n",
        "\n",
        "def reverse_doubly_linked_list(head):\n",
        "    if not head:\n",
        "        return head\n",
        "\n",
        "    current = head\n",
        "    prev = None\n",
        "\n",
        "    while current:\n",
        "        prev = current.prev\n",
        "        current.prev = current.next\n",
        "        current.next = prev\n",
        "        current = current.prev\n",
        "\n",
        "    if prev:\n",
        "        head = prev.prev\n",
        "\n",
        "    return head\n"
      ],
      "metadata": {
        "id": "YJ96Ce7R4T0z"
      },
      "execution_count": 13,
      "outputs": []
    },
    {
      "cell_type": "code",
      "source": [
        "# question 8"
      ],
      "metadata": {
        "id": "Moh42v3r4Xsw"
      },
      "execution_count": 14,
      "outputs": []
    },
    {
      "cell_type": "code",
      "source": [
        "class ListNode:\n",
        "    def __init__(self, val=0, prev=None, next=None):\n",
        "        self.val = val\n",
        "        self.prev = prev\n",
        "        self.next = next\n",
        "\n",
        "def delete_node_at_position(head, position):\n",
        "    if not head:\n",
        "        return head\n",
        "\n",
        "    if position == 1:\n",
        "        if\n"
      ],
      "metadata": {
        "colab": {
          "base_uri": "https://localhost:8080/",
          "height": 130
        },
        "id": "oT82nrEp4a2w",
        "outputId": "ac2d1f32-ce06-4236-8117-0fd71ec7cbd1"
      },
      "execution_count": 15,
      "outputs": [
        {
          "output_type": "error",
          "ename": "SyntaxError",
          "evalue": "ignored",
          "traceback": [
            "\u001b[0;36m  File \u001b[0;32m\"<ipython-input-15-cc3c8c182952>\"\u001b[0;36m, line \u001b[0;32m12\u001b[0m\n\u001b[0;31m    if\u001b[0m\n\u001b[0m      ^\u001b[0m\n\u001b[0;31mSyntaxError\u001b[0m\u001b[0;31m:\u001b[0m invalid syntax\n"
          ]
        }
      ]
    },
    {
      "cell_type": "code",
      "source": [],
      "metadata": {
        "id": "ZyuBj5UD4bIa"
      },
      "execution_count": null,
      "outputs": []
    }
  ]
}