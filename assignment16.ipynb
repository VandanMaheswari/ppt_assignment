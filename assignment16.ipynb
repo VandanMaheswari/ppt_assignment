{
  "nbformat": 4,
  "nbformat_minor": 0,
  "metadata": {
    "colab": {
      "provenance": []
    },
    "kernelspec": {
      "name": "python3",
      "display_name": "Python 3"
    },
    "language_info": {
      "name": "python"
    }
  },
  "cells": [
    {
      "cell_type": "code",
      "execution_count": 1,
      "metadata": {
        "id": "bMfcyukZR6Gi"
      },
      "outputs": [],
      "source": [
        "# question 1\n",
        "\n",
        "def find_nearest_element_with_greater_frequency(arr):\n",
        "    frequency = {}\n",
        "    result = [-1] * len(arr)\n",
        "    stack = []\n",
        "\n",
        "    for i in range(len(arr) - 1, -1, -1):\n",
        "        frequency[arr[i]] = frequency.get(arr[i], 0) + 1\n",
        "\n",
        "        while stack and frequency[arr[i]] >= frequency[arr[stack[-1]]]:\n",
        "            stack.pop()\n",
        "\n",
        "        if stack:\n",
        "            result[i] = arr[stack[-1]]\n",
        "\n",
        "        stack.append(i)\n",
        "\n",
        "    return result\n"
      ]
    },
    {
      "cell_type": "code",
      "source": [
        "# question 2\n",
        "\n",
        "def sort_stack(stack):\n",
        "    temp_stack = []\n",
        "\n",
        "    while stack:\n",
        "        temp = stack.pop()\n",
        "\n",
        "        while temp_stack and temp_stack[-1] > temp:\n",
        "            stack.append(temp_stack.pop())\n",
        "\n",
        "        temp_stack.append(temp)\n",
        "\n",
        "    while temp_stack:\n",
        "        stack.append(temp_stack.pop())\n",
        "\n",
        "    return stack\n"
      ],
      "metadata": {
        "id": "gCK3bSTAS_fy"
      },
      "execution_count": 3,
      "outputs": []
    },
    {
      "cell_type": "code",
      "source": [
        "# question 3\n",
        "def delete_middle_element(stack):\n",
        "    n = len(stack)\n",
        "    delete_middle_helper(stack, n, 0)\n",
        "\n",
        "def delete_middle_helper(stack, n, curr):\n",
        "    if stack:\n",
        "        if curr == n // 2:\n",
        "            stack.pop()\n",
        "            return\n",
        "\n",
        "        temp = stack.pop()\n",
        "        delete_middle_helper(stack, n, curr + 1)\n",
        "        stack.append(temp)\n"
      ],
      "metadata": {
        "id": "AWoBAvGhTKJn"
      },
      "execution_count": 4,
      "outputs": []
    },
    {
      "cell_type": "code",
      "source": [
        "# question 4\n",
        "from queue import Queue\n",
        "\n",
        "def check_arrange_increasing_order(queue):\n",
        "    stack = []\n",
        "    expected_number = 1\n",
        "\n",
        "    while not queue.empty():\n",
        "        if queue.queue[0] == expected_number:\n",
        "            queue.get()\n",
        "            expected_number += 1\n",
        "        elif stack and stack[-1] == expected_number:\n",
        "            stack.pop()\n",
        "            expected_number += 1\n",
        "        else:\n",
        "            stack.append(queue.get())\n",
        "\n",
        "    while stack and stack[-1] == expected_number:\n",
        "        stack.pop()\n",
        "        expected_number += 1\n",
        "\n",
        "    return queue.empty() and not stack\n"
      ],
      "metadata": {
        "id": "pPEzPPxVTN1V"
      },
      "execution_count": 5,
      "outputs": []
    },
    {
      "cell_type": "code",
      "source": [
        "# questtion 6\n",
        "from queue import Queue\n",
        "\n",
        "def reverse_first_k_elements(queue, k):\n",
        "    stack = []\n",
        "    n = queue.qsize()\n",
        "\n",
        "    for i in range(k):\n",
        "        stack.append(queue.get())\n",
        "\n",
        "    while stack:\n",
        "        queue.put(stack.pop())\n",
        "\n",
        "    for i in range(n - k):\n",
        "        queue.put(queue.get())\n",
        "\n",
        "    return queue\n"
      ],
      "metadata": {
        "id": "e1J6Cb3dTQlX"
      },
      "execution_count": 7,
      "outputs": []
    },
    {
      "cell_type": "code",
      "source": [
        "# question 7\n",
        "def count_words_left(sequence):\n",
        "    stack = []\n",
        "\n",
        "    for word in sequence:\n",
        "        if not stack or stack[-1] != word:\n",
        "            stack.append(word)\n",
        "        else:\n",
        "            stack.pop()\n",
        "\n",
        "    return len(stack)\n"
      ],
      "metadata": {
        "id": "jHpky0ikTT2H"
      },
      "execution_count": 8,
      "outputs": []
    },
    {
      "cell_type": "code",
      "source": [],
      "metadata": {
        "id": "C81Diy6WTXaV"
      },
      "execution_count": null,
      "outputs": []
    }
  ]
}