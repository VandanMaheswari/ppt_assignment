{
  "nbformat": 4,
  "nbformat_minor": 0,
  "metadata": {
    "colab": {
      "provenance": []
    },
    "kernelspec": {
      "name": "python3",
      "display_name": "Python 3"
    },
    "language_info": {
      "name": "python"
    }
  },
  "cells": [
    {
      "cell_type": "code",
      "execution_count": 1,
      "metadata": {
        "id": "xH3-DynsWjpR"
      },
      "outputs": [],
      "source": [
        "# q1\n",
        "import heapq\n",
        "\n",
        "def mergeKLists(lists):\n",
        "    heap = []\n",
        "    for lst in lists:\n",
        "        if lst:\n",
        "            heap.append((lst.val, lst))\n",
        "    heapq.heapify(heap)\n",
        "\n",
        "    dummy = ListNode(0)\n",
        "    curr = dummy\n",
        "\n",
        "    while heap:\n",
        "        val, node = heapq.heappop(heap)\n",
        "        curr.next = ListNode(val)\n",
        "        curr = curr.next\n",
        "        node = node.next\n",
        "        if node:\n",
        "            heapq.heappush(heap, (node.val, node))\n",
        "\n",
        "    return dummy.next\n"
      ]
    },
    {
      "cell_type": "code",
      "source": [
        "# q2\n",
        "class TreeNode:\n",
        "    def __init__(self, val):\n",
        "        self.val = val\n",
        "        self.left = None\n",
        "        self.right = None\n",
        "        self.leftCount = 0\n",
        "        self.count = 1\n",
        "\n",
        "def insert(node, val, result, index, countSoFar):\n",
        "    if node.val == val:\n",
        "        node.count += 1\n",
        "        result[index] = countSoFar + node.leftCount\n",
        "    elif node.val > val:\n",
        "        node.leftCount += 1\n",
        "        if node.left:\n",
        "            insert(node.left, val, result, index, countSoFar)\n",
        "        else:\n",
        "            node.left = TreeNode(val)\n",
        "            result[index] = countSoFar\n",
        "    else:\n",
        "        countSoFar += node.count + node.leftCount\n",
        "        if node.right:\n",
        "            insert(node.right, val, result, index, countSoFar)\n",
        "        else:\n",
        "            node.right = TreeNode(val)\n",
        "            result[index] = countSoFar\n",
        "\n",
        "def countSmaller(nums):\n",
        "    n = len(nums)\n",
        "    result = [0] * n\n",
        "    if n == 0:\n",
        "        return result\n",
        "\n",
        "    root = TreeNode(nums[-1])\n",
        "    for i in range(n-2, -1, -1):\n",
        "        insert(root, nums[i], result, i, 0)\n",
        "\n",
        "    return result\n"
      ],
      "metadata": {
        "id": "Hd8l9DAmXEBR"
      },
      "execution_count": 2,
      "outputs": []
    },
    {
      "cell_type": "code",
      "source": [
        "# q3\n",
        "def sortArray(nums):\n",
        "    def merge(left, right):\n",
        "        merged = []\n",
        "        i = j = 0\n",
        "        while i < len(left) and j < len(right):\n",
        "            if left[i] < right[j]:\n",
        "                merged.append(left[i])\n",
        "                i += 1\n",
        "            else:\n",
        "                merged.append(right[j])\n",
        "                j += 1\n",
        "        merged.extend(left[i:])\n",
        "        merged.extend(right[j:])\n",
        "        return merged\n",
        "\n",
        "    if len(nums) <= 1:\n",
        "        return nums\n",
        "\n",
        "    mid = len(nums) // 2\n",
        "    left = sortArray(nums[:mid])\n",
        "    right = sortArray(nums[mid:])\n",
        "    return merge(left, right)\n"
      ],
      "metadata": {
        "id": "rh1OLN9VXGDm"
      },
      "execution_count": 3,
      "outputs": []
    },
    {
      "cell_type": "code",
      "source": [
        "# q4\n",
        "def moveZeroes(nums):\n",
        "    n = len(nums)\n",
        "    count = 0\n",
        "    for i in range(n):\n",
        "        if nums[i] != 0:\n",
        "            nums[count] = nums[i]\n",
        "            count += 1\n",
        "    for i in range(count, n):\n",
        "        nums[i] = 0\n"
      ],
      "metadata": {
        "id": "jXVlqJl9XIBW"
      },
      "execution_count": 4,
      "outputs": []
    },
    {
      "cell_type": "code",
      "source": [
        "# q5\n",
        "def rearrange(nums):\n",
        "    n = len(nums)\n",
        "    i = 0\n",
        "    j = n - 1\n",
        "    while i < j:\n",
        "        while i < n and nums[i] > 0:\n",
        "            i += 1\n",
        "        while j >= 0 and nums[j] < 0:\n",
        "            j -= 1\n",
        "        if i < j:\n",
        "            nums[i], nums[j] = nums[j], nums[i]\n",
        "\n",
        "    if i == 0 or i == n:\n",
        "        return\n",
        "\n",
        "    k = 0\n",
        "    while k < n and i < n:\n",
        "        nums[k], nums[i] = nums[i], nums[k]\n",
        "        k += 2\n",
        "        i += 1\n"
      ],
      "metadata": {
        "id": "10W9TCpVXJ6b"
      },
      "execution_count": 5,
      "outputs": []
    },
    {
      "cell_type": "code",
      "source": [
        "# q6\n",
        "def mergeArrays(arr1, arr2):\n",
        "    m = len(arr1)\n",
        "    n = len(arr2)\n",
        "    arr3 = [0] * (m + n)\n",
        "    i = j = k = 0\n",
        "    while i < m and j < n:\n",
        "        if arr1[i] < arr2[j]:\n",
        "            arr3[k] = arr1[i]\n",
        "            i += 1\n",
        "        else:\n",
        "            arr3[k] = arr2[j]\n",
        "            j += 1\n",
        "        k += 1\n",
        "    while i < m:\n",
        "        arr3[k] = arr1[i]\n",
        "        i += 1\n",
        "        k += 1\n",
        "    while j < n:\n",
        "        arr3[k] = arr2[j]\n",
        "        j += 1\n",
        "        k += 1\n",
        "    return arr3\n"
      ],
      "metadata": {
        "id": "9r4xvKTdXL3-"
      },
      "execution_count": 6,
      "outputs": []
    },
    {
      "cell_type": "code",
      "source": [
        "# q8\n",
        "def intersect(nums1, nums2):\n",
        "    counter1 = Counter(nums1)\n",
        "    counter2 = Counter(nums2)\n",
        "    result = []\n",
        "    for num in counter1:\n",
        "        if num in counter2:\n",
        "            freq = min(counter1[num], counter2[num])\n",
        "            result.extend([num] * freq)\n",
        "    return result\n"
      ],
      "metadata": {
        "id": "0SEa9dUtXOSg"
      },
      "execution_count": 7,
      "outputs": []
    },
    {
      "cell_type": "code",
      "source": [],
      "metadata": {
        "id": "Qw2aaUu5XQXh"
      },
      "execution_count": null,
      "outputs": []
    }
  ]
}