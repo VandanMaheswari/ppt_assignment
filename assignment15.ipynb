{
  "nbformat": 4,
  "nbformat_minor": 0,
  "metadata": {
    "colab": {
      "provenance": []
    },
    "kernelspec": {
      "name": "python3",
      "display_name": "Python 3"
    },
    "language_info": {
      "name": "python"
    }
  },
  "cells": [
    {
      "cell_type": "code",
      "execution_count": 1,
      "metadata": {
        "id": "BNuXZTioRPlN"
      },
      "outputs": [],
      "source": [
        "# question 1"
      ]
    },
    {
      "cell_type": "code",
      "source": [
        "def find_next_greater_element(arr):\n",
        "    stack = []\n",
        "    result = []\n",
        "\n",
        "    for num in arr:\n",
        "        while stack and stack[-1] < num:\n",
        "            result.append(stack.pop())\n",
        "        stack.append(num)\n",
        "\n",
        "    while stack:\n",
        "        result.append(-1)\n",
        "\n",
        "    return result\n"
      ],
      "metadata": {
        "id": "Tt3HfhwNRfyO"
      },
      "execution_count": 2,
      "outputs": []
    },
    {
      "cell_type": "code",
      "source": [
        "# question 2"
      ],
      "metadata": {
        "id": "NKpT4cgDRgDv"
      },
      "execution_count": 3,
      "outputs": []
    },
    {
      "cell_type": "code",
      "source": [
        "def find_nearest_smaller_number(a):\n",
        "    stack = []\n",
        "    result = []\n",
        "\n",
        "    for num in a:\n",
        "        while stack and stack[-1] >= num:\n",
        "            stack.pop()\n",
        "\n",
        "        if not stack:\n",
        "            result.append(-1)\n",
        "        else:\n",
        "            result.append(stack[-1])\n",
        "\n",
        "        stack.append(num)\n",
        "\n",
        "    return result\n"
      ],
      "metadata": {
        "id": "4f-Xuk0DRjBO"
      },
      "execution_count": 4,
      "outputs": []
    },
    {
      "cell_type": "code",
      "source": [
        "# question 3"
      ],
      "metadata": {
        "id": "cAB8PmZsRjRA"
      },
      "execution_count": 5,
      "outputs": []
    },
    {
      "cell_type": "code",
      "source": [
        "from queue import Queue\n",
        "\n",
        "class Stack:\n",
        "    def __init__(self):\n",
        "        self.q1 = Queue()\n",
        "        self.q2 = Queue()\n",
        "\n",
        "    def push(self, x):\n",
        "        self.q2.put(x)\n",
        "\n",
        "        while not self.q1.empty():\n",
        "            self.q2.put(self.q1.get())\n",
        "\n",
        "        self.q1, self.q2 = self.q2, self.q1\n",
        "\n",
        "    def pop(self):\n",
        "        if not self.q1.empty():\n",
        "            return self.q1.get()\n",
        "\n",
        "        return -1  # Stack is empty\n",
        "\n"
      ],
      "metadata": {
        "id": "gfaOjwy8Rlvx"
      },
      "execution_count": 6,
      "outputs": []
    },
    {
      "cell_type": "code",
      "source": [
        "# question 4"
      ],
      "metadata": {
        "id": "Spwg1q82Rl-Q"
      },
      "execution_count": 7,
      "outputs": []
    },
    {
      "cell_type": "code",
      "source": [
        "def reverse_stack(stack):\n",
        "    if not stack:\n",
        "        return\n",
        "\n",
        "    top = stack.pop()\n",
        "    reverse_stack(stack)\n",
        "    insert_at_bottom(stack, top)\n",
        "\n",
        "def insert_at_bottom(stack, item):\n",
        "    if not stack:\n",
        "        stack.append(item)\n",
        "        return\n",
        "\n",
        "    top = stack.pop()\n",
        "    insert_at_bottom(stack, item)\n",
        "    stack.append(top)\n"
      ],
      "metadata": {
        "id": "MZR7kiscRneb"
      },
      "execution_count": 8,
      "outputs": []
    },
    {
      "cell_type": "code",
      "source": [
        "# question 5"
      ],
      "metadata": {
        "id": "gJfnBuFVRpJ4"
      },
      "execution_count": 9,
      "outputs": []
    },
    {
      "cell_type": "code",
      "source": [
        "def reverse_string(s):\n",
        "    stack = []\n",
        "    reversed_s = \"\"\n",
        "\n",
        "    for char in s:\n",
        "        stack.append(char)\n",
        "\n",
        "    while stack:\n",
        "        reversed_s += stack.pop()\n",
        "\n",
        "    return reversed_s\n"
      ],
      "metadata": {
        "id": "Q9s2wJI0Rp-8"
      },
      "execution_count": 10,
      "outputs": []
    },
    {
      "cell_type": "code",
      "source": [
        "# question 6"
      ],
      "metadata": {
        "id": "aDRW_Q6jRrqN"
      },
      "execution_count": 11,
      "outputs": []
    },
    {
      "cell_type": "code",
      "source": [
        "def evaluate_postfix(expression):\n",
        "    stack = []\n",
        "\n",
        "    for char in expression:\n",
        "        if char.isdigit():\n",
        "            stack.append(int(char))\n",
        "        else:\n",
        "            operand2 = stack.pop()\n",
        "            operand1 = stack.pop()\n",
        "\n",
        "            if char == '+':\n",
        "                result = operand1 + operand2\n",
        "            elif char == '-':\n",
        "                result = operand1 - operand2\n",
        "            elif char == '*':\n",
        "                result = operand1 * operand2\n",
        "            elif char == '/':\n",
        "                result = operand1 / operand2\n",
        "\n",
        "            stack.append(result)\n",
        "\n",
        "    return stack.pop()\n"
      ],
      "metadata": {
        "id": "iG7CetSvRscq"
      },
      "execution_count": 12,
      "outputs": []
    },
    {
      "cell_type": "code",
      "source": [
        "# question 7\n"
      ],
      "metadata": {
        "id": "10ZuETh5RtnF"
      },
      "execution_count": 13,
      "outputs": []
    },
    {
      "cell_type": "code",
      "source": [
        "class MinStack:\n",
        "    def __init__(self):\n",
        "        self.stack = []  # main stack to store values\n",
        "        self.min_stack = []  # stack to store minimum values\n",
        "\n",
        "    def push(self, val: int) -> None:\n",
        "        self.stack.append(val)\n",
        "\n",
        "        if not self.min_stack or val <= self.min_stack[-1]:\n",
        "            self.min_stack.append(val)\n",
        "\n",
        "    def pop(self) -> None:\n",
        "        if self.stack.pop() == self.min_stack[-1]:\n",
        "            self.min_stack.pop()\n",
        "\n",
        "    def top(self) -> int:\n",
        "        return self.stack[-1]\n",
        "\n",
        "    def getMin(self) -> int:\n",
        "        return self.min_stack[-1]\n"
      ],
      "metadata": {
        "id": "1xfH2qaBRwqY"
      },
      "execution_count": 14,
      "outputs": []
    },
    {
      "cell_type": "code",
      "source": [
        "# question 8"
      ],
      "metadata": {
        "id": "NgJVSzWPRw-i"
      },
      "execution_count": 15,
      "outputs": []
    },
    {
      "cell_type": "code",
      "source": [
        "def trap(height):\n",
        "    n = len(height)\n",
        "    if n < 3:\n",
        "        return 0\n",
        "\n",
        "    left_max = [0] * n  # array to store the maximum height from the left\n",
        "    right_max = [0] * n  # array to store the maximum height from the right\n",
        "\n",
        "    left_max[0] = height[0]\n",
        "    for i in range(1, n):\n",
        "        left_max[i] = max(left_max[i - 1], height[i])\n",
        "\n",
        "    right_max[n - 1] = height[n - 1]\n",
        "    for i in range(n - 2, -1, -1):\n",
        "        right_max[i] = max(right_max[i + 1], height[i])\n",
        "\n",
        "    water = 0\n",
        "    for i in range(n):\n",
        "        water += min(left_max[i], right_max[i]) - height[i]\n",
        "\n",
        "    return water\n"
      ],
      "metadata": {
        "id": "-0RWsCS-R0Aw"
      },
      "execution_count": 16,
      "outputs": []
    },
    {
      "cell_type": "code",
      "source": [],
      "metadata": {
        "id": "e2fAfe5eR0PG"
      },
      "execution_count": null,
      "outputs": []
    }
  ]
}